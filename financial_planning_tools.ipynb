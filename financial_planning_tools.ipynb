{
 "cells": [
  {
   "cell_type": "markdown",
   "metadata": {},
   "source": [
    "# Financial Planning with APIs and Simulations\n",
    "\n",
    "In this Challenge, you’ll create two financial analysis tools by using a single Jupyter notebook:\n",
    "\n",
    "Part 1: A financial planner for emergencies. The members will be able to use this tool to visualize their current savings. The members can then determine if they have enough reserves for an emergency fund.\n",
    "\n",
    "Part 2: A financial planner for retirement. This tool will forecast the performance of their retirement portfolio in 30 years. To do this, the tool will make an Alpaca API call via the Alpaca SDK to get historical price data for use in Monte Carlo simulations.\n",
    "\n",
    "You’ll use the information from the Monte Carlo simulation to answer questions about the portfolio in your Jupyter notebook.\n",
    "\n"
   ]
  },
  {
   "cell_type": "code",
   "execution_count": 1,
   "metadata": {},
   "outputs": [],
   "source": [
    "# Import the required libraries and dependencies\n",
    "import os\n",
    "import requests\n",
    "import json\n",
    "import pandas as pd\n",
    "from dotenv import load_dotenv\n",
    "import alpaca_trade_api as tradeapi\n",
    "from MCForecastTools import MCSimulation\n",
    "\n",
    "%matplotlib inline"
   ]
  },
  {
   "cell_type": "code",
   "execution_count": 2,
   "metadata": {},
   "outputs": [
    {
     "data": {
      "text/plain": [
       "True"
      ]
     },
     "execution_count": 2,
     "metadata": {},
     "output_type": "execute_result"
    }
   ],
   "source": [
    "# Load the environment variables from the .env file\n",
    "#by calling the load_dotenv function\n",
    "load_dotenv()"
   ]
  },
  {
   "cell_type": "markdown",
   "metadata": {},
   "source": [
    "## Part 1: Create a Financial Planner for Emergencies"
   ]
  },
  {
   "cell_type": "markdown",
   "metadata": {},
   "source": [
    "### Evaluate the Cryptocurrency Wallet by Using the Requests Library\n",
    "\n",
    "In this section, you’ll determine the current value of a member’s cryptocurrency wallet. You’ll collect the current prices for the Bitcoin and Ethereum cryptocurrencies by using the Python Requests library. For the prototype, you’ll assume that the member holds the 1.2 Bitcoins (BTC) and 5.3 Ethereum coins (ETH). To do all this, complete the following steps:\n",
    "\n",
    "1. Create a variable named `monthly_income`, and set its value to `12000`.\n",
    "\n",
    "2. Use the Requests library to get the current price (in US dollars) of Bitcoin (BTC) and Ethereum (ETH) by using the API endpoints that the starter code supplies.\n",
    "\n",
    "3. Navigate the JSON response object to access the current price of each coin, and store each in a variable.\n",
    "\n",
    "    > **Hint** Note the specific identifier for each cryptocurrency in the API JSON response. The Bitcoin identifier is `1`, and the Ethereum identifier is `1027`.\n",
    "\n",
    "4. Calculate the value, in US dollars, of the current amount of each cryptocurrency and of the entire cryptocurrency wallet.\n",
    "\n"
   ]
  },
  {
   "cell_type": "code",
   "execution_count": 3,
   "metadata": {},
   "outputs": [],
   "source": [
    "# The current number of coins for each cryptocurrency asset held in the portfolio.\n",
    "btc_coins = 1.2\n",
    "eth_coins = 5.3"
   ]
  },
  {
   "cell_type": "markdown",
   "metadata": {},
   "source": [
    "#### Step 1: Create a variable named `monthly_income`, and set its value to `12000`."
   ]
  },
  {
   "cell_type": "code",
   "execution_count": 4,
   "metadata": {},
   "outputs": [],
   "source": [
    "# The monthly amount for the member's household income\n",
    "monthly_income = 12000"
   ]
  },
  {
   "cell_type": "markdown",
   "metadata": {},
   "source": [
    "#### Review the endpoint URLs for the API calls to Free Crypto API in order to get the current pricing information for both BTC and ETH."
   ]
  },
  {
   "cell_type": "code",
   "execution_count": 5,
   "metadata": {},
   "outputs": [],
   "source": [
    "# The Free Crypto API Call endpoint URLs for the held cryptocurrency assets\n",
    "btc_url = \"https://api.alternative.me/v2/ticker/Bitcoin/?convert=USD\"\n",
    "eth_url = \"https://api.alternative.me/v2/ticker/Ethereum/?convert=USD\""
   ]
  },
  {
   "cell_type": "markdown",
   "metadata": {},
   "source": [
    "#### Step 2. Use the Requests library to get the current price (in US dollars) of Bitcoin (BTC) and Ethereum (ETH) by using the API endpoints that the starter code supplied."
   ]
  },
  {
   "cell_type": "code",
   "execution_count": 6,
   "metadata": {},
   "outputs": [
    {
     "name": "stdout",
     "output_type": "stream",
     "text": [
      "{\n",
      "    \"data\": {\n",
      "        \"1\": {\n",
      "            \"circulating_supply\": 19046943,\n",
      "            \"id\": 1,\n",
      "            \"last_updated\": 1653275192,\n",
      "            \"max_supply\": 21000000,\n",
      "            \"name\": \"Bitcoin\",\n",
      "            \"quotes\": {\n",
      "                \"USD\": {\n",
      "                    \"market_cap\": 574388135492,\n",
      "                    \"percent_change_1h\": -0.109183195273637,\n",
      "                    \"percent_change_24h\": 2.30784865594927,\n",
      "                    \"percent_change_7d\": -3.69455254913296,\n",
      "                    \"percentage_change_1h\": -0.109183195273637,\n",
      "                    \"percentage_change_24h\": 2.30784865594927,\n",
      "                    \"percentage_change_7d\": -3.69455254913296,\n",
      "                    \"price\": 30162.0,\n",
      "                    \"volume_24h\": 17942210706\n",
      "                }\n",
      "            },\n",
      "            \"rank\": 1,\n",
      "            \"symbol\": \"BTC\",\n",
      "            \"total_supply\": 19046943,\n",
      "            \"website_slug\": \"bitcoin\"\n",
      "        }\n",
      "    },\n",
      "    \"metadata\": {\n",
      "        \"error\": null,\n",
      "        \"num_cryptocurrencies\": 3106,\n",
      "        \"timestamp\": 1653275192\n",
      "    }\n",
      "}\n"
     ]
    }
   ],
   "source": [
    "# Using the Python requests library, make an API call to access the current price of BTC\n",
    "btc_response = requests.get(btc_url).json()\n",
    "\n",
    "# Use the json.dumps function to review the response data from the API call\n",
    "# Use the indent and sort_keys parameters to make the response object readable\n",
    "print(json.dumps(btc_response, indent=4, sort_keys=True))"
   ]
  },
  {
   "cell_type": "code",
   "execution_count": 7,
   "metadata": {},
   "outputs": [
    {
     "name": "stdout",
     "output_type": "stream",
     "text": [
      "{\n",
      "    \"data\": {\n",
      "        \"1027\": {\n",
      "            \"circulating_supply\": 120886664,\n",
      "            \"id\": 1027,\n",
      "            \"last_updated\": 1653275218,\n",
      "            \"max_supply\": 0,\n",
      "            \"name\": \"Ethereum\",\n",
      "            \"quotes\": {\n",
      "                \"USD\": {\n",
      "                    \"market_cap\": 245418790724,\n",
      "                    \"percent_change_1h\": 0.0266951616952935,\n",
      "                    \"percent_change_24h\": 2.57926649869637,\n",
      "                    \"percent_change_7d\": -5.39432673643675,\n",
      "                    \"percentage_change_1h\": 0.0266951616952935,\n",
      "                    \"percentage_change_24h\": 2.57926649869637,\n",
      "                    \"percentage_change_7d\": -5.39432673643675,\n",
      "                    \"price\": 2031.23,\n",
      "                    \"volume_24h\": 10252024190\n",
      "                }\n",
      "            },\n",
      "            \"rank\": 2,\n",
      "            \"symbol\": \"ETH\",\n",
      "            \"total_supply\": 120886664,\n",
      "            \"website_slug\": \"ethereum\"\n",
      "        }\n",
      "    },\n",
      "    \"metadata\": {\n",
      "        \"error\": null,\n",
      "        \"num_cryptocurrencies\": 3106,\n",
      "        \"timestamp\": 1653275218\n",
      "    }\n",
      "}\n"
     ]
    }
   ],
   "source": [
    "# Using the Python requests library, make an API call to access the current price ETH\n",
    "eth_response = requests.get(eth_url).json()\n",
    "\n",
    "# Use the json.dumps function to review the response data from the API call\n",
    "# Use the indent and sort_keys parameters to make the response object readable\n",
    "print(json.dumps(eth_response, indent=4, sort_keys=True))"
   ]
  },
  {
   "cell_type": "markdown",
   "metadata": {},
   "source": [
    "#### Step 3: Navigate the JSON response object to access the current price of each coin, and store each in a variable."
   ]
  },
  {
   "cell_type": "code",
   "execution_count": 8,
   "metadata": {},
   "outputs": [
    {
     "name": "stdout",
     "output_type": "stream",
     "text": [
      "The price of Bitcoin is $30162.00\n"
     ]
    }
   ],
   "source": [
    "# Navigate the BTC response object to access the current price of BTC\n",
    "btc_price = btc_response['data']['1']['quotes']['USD']['price']\n",
    "\n",
    "# Print the current price of BTC\n",
    "print(f'The price of Bitcoin is ${btc_price:.2f}')"
   ]
  },
  {
   "cell_type": "code",
   "execution_count": 9,
   "metadata": {},
   "outputs": [
    {
     "name": "stdout",
     "output_type": "stream",
     "text": [
      "The price of Ethereum is $2031.23\n"
     ]
    }
   ],
   "source": [
    "# Navigate the BTC response object to access the current price of ETH\n",
    "eth_price = eth_response['data']['1027']['quotes']['USD']['price']\n",
    "\n",
    "# Print the current price of ETH\n",
    "print(f'The price of Ethereum is ${eth_price:.2f}')"
   ]
  },
  {
   "cell_type": "markdown",
   "metadata": {},
   "source": [
    "### Step 4: Calculate the value, in US dollars, of the current amount of each cryptocurrency and of the entire cryptocurrency wallet."
   ]
  },
  {
   "cell_type": "code",
   "execution_count": 10,
   "metadata": {},
   "outputs": [
    {
     "name": "stdout",
     "output_type": "stream",
     "text": [
      "The current value of the holding in BTC is $36194.40\n"
     ]
    }
   ],
   "source": [
    "# Compute the current value of the BTC holding \n",
    "btc_value = btc_price * btc_coins\n",
    "\n",
    "# Print current value of your holding in BTC\n",
    "print(f'The current value of the holding in BTC is ${btc_value:.2f}')"
   ]
  },
  {
   "cell_type": "code",
   "execution_count": 11,
   "metadata": {},
   "outputs": [
    {
     "name": "stdout",
     "output_type": "stream",
     "text": [
      "The current value of the holding in ETH is $10765.52\n"
     ]
    }
   ],
   "source": [
    "# Compute the current value of the ETH holding \n",
    "eth_value = eth_price * eth_coins\n",
    "\n",
    "# Print current value of your holding in ETH\n",
    "print(f'The current value of the holding in ETH is ${eth_value:.2f}')"
   ]
  },
  {
   "cell_type": "code",
   "execution_count": 12,
   "metadata": {},
   "outputs": [
    {
     "name": "stdout",
     "output_type": "stream",
     "text": [
      "The current cryptocurrency wallet balance is $46959.92\n"
     ]
    }
   ],
   "source": [
    "# Compute the total value of the cryptocurrency wallet\n",
    "# Add the value of the BTC holding to the value of the ETH holding\n",
    "total_crypto_wallet = eth_value + btc_value\n",
    "\n",
    "# Print current cryptocurrency wallet balance\n",
    "print(f'The current cryptocurrency wallet balance is ${total_crypto_wallet:.2f}')"
   ]
  },
  {
   "cell_type": "markdown",
   "metadata": {},
   "source": [
    "### Evaluate the Stock and Bond Holdings by Using the Alpaca SDK\n",
    "\n",
    "In this section, you’ll determine the current value of a member’s stock and bond holdings. You’ll make an API call to Alpaca via the Alpaca SDK to get the current closing prices of the SPDR S&P 500 ETF Trust (ticker: SPY) and of the iShares Core US Aggregate Bond ETF (ticker: AGG). For the prototype, assume that the member holds 110 shares of SPY, which represents the stock portion of their portfolio, and 200 shares of AGG, which represents the bond portion. To do all this, complete the following steps:\n",
    "\n",
    "1. In the `Starter_Code` folder, create an environment file (`.env`) to store the values of your Alpaca API key and Alpaca secret key.\n",
    "\n",
    "2. Set the variables for the Alpaca API and secret keys. Using the Alpaca SDK, create the Alpaca `tradeapi.REST` object. In this object, include the parameters for the Alpaca API key, the secret key, and the version number.\n",
    "\n",
    "3. Set the following parameters for the Alpaca API call:\n",
    "\n",
    "    - `tickers`: Use the tickers for the member’s stock and bond holdings.\n",
    "\n",
    "    - `timeframe`: Use a time frame of one day.\n",
    "\n",
    "    - `start_date` and `end_date`: Use the same date for these parameters, and format them with the date of the previous weekday (or `2020-08-07`). This is because you want the one closing price for the most-recent trading day.\n",
    "\n",
    "4. Get the current closing prices for `SPY` and `AGG` by using the Alpaca `get_bars` function. Format the response as a Pandas DataFrame by including the `df` property at the end of the `get_bars` function.\n",
    "\n",
    "5. Navigating the Alpaca response DataFrame, select the `SPY` and `AGG` closing prices, and store them as variables.\n",
    "\n",
    "6. Calculate the value, in US dollars, of the current amount of shares in each of the stock and bond portions of the portfolio, and print the results.\n"
   ]
  },
  {
   "cell_type": "markdown",
   "metadata": {},
   "source": [
    "#### Review the total number of shares held in both (SPY) and (AGG)."
   ]
  },
  {
   "cell_type": "code",
   "execution_count": 13,
   "metadata": {},
   "outputs": [],
   "source": [
    "# Current amount of shares held in both the stock (SPY) and bond (AGG) portion of the portfolio.\n",
    "spy_shares = 110\n",
    "agg_shares = 200"
   ]
  },
  {
   "cell_type": "markdown",
   "metadata": {},
   "source": [
    "#### Step 1: In the `Starter_Code` folder, create an environment file (`.env`) to store the values of your Alpaca API key and Alpaca secret key."
   ]
  },
  {
   "cell_type": "markdown",
   "metadata": {},
   "source": [
    "#### Step 2: Set the variables for the Alpaca API and secret keys. Using the Alpaca SDK, create the Alpaca `tradeapi.REST` object. In this object, include the parameters for the Alpaca API key, the secret key, and the version number."
   ]
  },
  {
   "cell_type": "code",
   "execution_count": 14,
   "metadata": {},
   "outputs": [],
   "source": [
    "# Set the variables for the Alpaca API and secret keys\n",
    "alpaca_api_key = os.getenv(\"ALPACA_API_KEY\")\n",
    "alpaca_secret_key = os.getenv(\"ALPACA_SECRET_KEY\")\n",
    "\n",
    "# Create the Alpaca tradeapi.REST object\n",
    "alpaca = tradeapi.REST(\n",
    "    alpaca_api_key,\n",
    "    alpaca_secret_key,\n",
    "    api_version=\"v2\")"
   ]
  },
  {
   "cell_type": "markdown",
   "metadata": {},
   "source": [
    "#### Step 3: Set the following parameters for the Alpaca API call:\n",
    "\n",
    "- `tickers`: Use the tickers for the member’s stock and bond holdings.\n",
    "\n",
    "- `timeframe`: Use a time frame of one day.\n",
    "\n",
    "- `start_date` and `end_date`: Use the same date for these parameters, and format them with the date of the previous weekday (or `2020-08-07`). This is because you want the one closing price for the most-recent trading day.\n"
   ]
  },
  {
   "cell_type": "code",
   "execution_count": 15,
   "metadata": {},
   "outputs": [],
   "source": [
    "# Set the tickers for both the bond and stock portion of the portfolio\n",
    "tickers = [\"SPY\", \"AGG\"]\n",
    "\n",
    "# Set timeframe to 1Day\n",
    "timeframe = \"1Day\"\n",
    "\n",
    "# Format current date as ISO format\n",
    "# Set both the start and end date at the date of your prior weekday \n",
    "# This will give you the closing price of the previous trading day\n",
    "# Alternatively you can use a start and end date of 2020-08-07\n",
    "start_date = pd.Timestamp(\"2020-08-07\", tz=\"America/New_York\").isoformat()\n",
    "end_date = pd.Timestamp(\"2020-08-07\", tz=\"America/New_York\").isoformat()"
   ]
  },
  {
   "cell_type": "markdown",
   "metadata": {},
   "source": [
    "#### Step 4: Get the current closing prices for `SPY` and `AGG` by using the Alpaca `get_bars` function. Format the response as a Pandas DataFrame by including the `df` property at the end of the `get_bars` function."
   ]
  },
  {
   "cell_type": "code",
   "execution_count": 16,
   "metadata": {},
   "outputs": [
    {
     "data": {
      "text/html": [
       "<div>\n",
       "<style scoped>\n",
       "    .dataframe tbody tr th:only-of-type {\n",
       "        vertical-align: middle;\n",
       "    }\n",
       "\n",
       "    .dataframe tbody tr th {\n",
       "        vertical-align: top;\n",
       "    }\n",
       "\n",
       "    .dataframe thead tr th {\n",
       "        text-align: left;\n",
       "    }\n",
       "\n",
       "    .dataframe thead tr:last-of-type th {\n",
       "        text-align: right;\n",
       "    }\n",
       "</style>\n",
       "<table border=\"1\" class=\"dataframe\">\n",
       "  <thead>\n",
       "    <tr>\n",
       "      <th></th>\n",
       "      <th colspan=\"7\" halign=\"left\">SPY</th>\n",
       "      <th colspan=\"7\" halign=\"left\">AGG</th>\n",
       "    </tr>\n",
       "    <tr>\n",
       "      <th></th>\n",
       "      <th>open</th>\n",
       "      <th>high</th>\n",
       "      <th>low</th>\n",
       "      <th>close</th>\n",
       "      <th>volume</th>\n",
       "      <th>trade_count</th>\n",
       "      <th>vwap</th>\n",
       "      <th>open</th>\n",
       "      <th>high</th>\n",
       "      <th>low</th>\n",
       "      <th>close</th>\n",
       "      <th>volume</th>\n",
       "      <th>trade_count</th>\n",
       "      <th>vwap</th>\n",
       "    </tr>\n",
       "    <tr>\n",
       "      <th>timestamp</th>\n",
       "      <th></th>\n",
       "      <th></th>\n",
       "      <th></th>\n",
       "      <th></th>\n",
       "      <th></th>\n",
       "      <th></th>\n",
       "      <th></th>\n",
       "      <th></th>\n",
       "      <th></th>\n",
       "      <th></th>\n",
       "      <th></th>\n",
       "      <th></th>\n",
       "      <th></th>\n",
       "      <th></th>\n",
       "    </tr>\n",
       "  </thead>\n",
       "  <tbody>\n",
       "    <tr>\n",
       "      <th>2020-08-07 04:00:00+00:00</th>\n",
       "      <td>333.29</td>\n",
       "      <td>334.88</td>\n",
       "      <td>332.3</td>\n",
       "      <td>334.57</td>\n",
       "      <td>57282821</td>\n",
       "      <td>350100</td>\n",
       "      <td>333.800372</td>\n",
       "      <td>119.66</td>\n",
       "      <td>119.73</td>\n",
       "      <td>119.395</td>\n",
       "      <td>119.43</td>\n",
       "      <td>5559066</td>\n",
       "      <td>15246</td>\n",
       "      <td>119.475306</td>\n",
       "    </tr>\n",
       "  </tbody>\n",
       "</table>\n",
       "</div>"
      ],
      "text/plain": [
       "                              SPY                                   \\\n",
       "                             open    high    low   close    volume   \n",
       "timestamp                                                            \n",
       "2020-08-07 04:00:00+00:00  333.29  334.88  332.3  334.57  57282821   \n",
       "\n",
       "                                                      AGG                   \\\n",
       "                          trade_count        vwap    open    high      low   \n",
       "timestamp                                                                    \n",
       "2020-08-07 04:00:00+00:00      350100  333.800372  119.66  119.73  119.395   \n",
       "\n",
       "                                                                    \n",
       "                            close   volume trade_count        vwap  \n",
       "timestamp                                                           \n",
       "2020-08-07 04:00:00+00:00  119.43  5559066       15246  119.475306  "
      ]
     },
     "execution_count": 16,
     "metadata": {},
     "output_type": "execute_result"
    }
   ],
   "source": [
    "# Use the Alpaca get_bars function to get current closing prices the portfolio\n",
    "# Be sure to set the `df` property after the function to format the response object as a DataFrame\n",
    "df_portfolio = alpaca.get_bars(\n",
    "    tickers,\n",
    "    timeframe,\n",
    "    start = start_date,\n",
    "    end = end_date\n",
    ").df\n",
    "\n",
    "# Reorganize the DataFrame\n",
    "# Separate ticker data\n",
    "SPY = df_portfolio[df_portfolio['symbol']=='SPY'].drop('symbol', axis=1)\n",
    "AGG = df_portfolio[df_portfolio['symbol']=='AGG'].drop('symbol', axis=1)\n",
    "\n",
    "# Concatenate the ticker DataFrames\n",
    "df_portfolio = pd.concat([SPY, AGG],axis=1, keys=['SPY','AGG'])\n",
    "\n",
    "# Review the first 5 rows of the Alpaca DataFrame\n",
    "df_portfolio.head(5)"
   ]
  },
  {
   "cell_type": "markdown",
   "metadata": {},
   "source": [
    "#### Step 5: Navigating the Alpaca response DataFrame, select the `SPY` and `AGG` closing prices, and store them as variables."
   ]
  },
  {
   "cell_type": "code",
   "execution_count": 17,
   "metadata": {},
   "outputs": [
    {
     "name": "stdout",
     "output_type": "stream",
     "text": [
      "The AGG closing price is $119.43\n"
     ]
    }
   ],
   "source": [
    "# Access the closing price for AGG from the Alpaca DataFrame\n",
    "# Converting the value to a floating point number\n",
    "agg_close_price = float(df_portfolio[\"AGG\"][\"close\"])\n",
    "\n",
    "# Print the AGG closing price\n",
    "print(f'The AGG closing price is ${agg_close_price:.2f}')"
   ]
  },
  {
   "cell_type": "code",
   "execution_count": 18,
   "metadata": {},
   "outputs": [
    {
     "name": "stdout",
     "output_type": "stream",
     "text": [
      "The AGG closing price is $334.57\n"
     ]
    }
   ],
   "source": [
    "# Access the closing price for SPY from the Alpaca DataFrame\n",
    "# Converting the value to a floating point number\n",
    "spy_close_price = float(df_portfolio[\"SPY\"][\"close\"])\n",
    "\n",
    "# Print the SPY closing price\n",
    "print(f'The AGG closing price is ${spy_close_price:.2f}')"
   ]
  },
  {
   "cell_type": "markdown",
   "metadata": {},
   "source": [
    "#### Step 6: Calculate the value, in US dollars, of the current amount of shares in each of the stock and bond portions of the portfolio, and print the results."
   ]
  },
  {
   "cell_type": "code",
   "execution_count": 19,
   "metadata": {},
   "outputs": [
    {
     "name": "stdout",
     "output_type": "stream",
     "text": [
      "The current value of the bond portfolio is $23886.00\n"
     ]
    }
   ],
   "source": [
    "# Calculate the current value of the bond portion of the portfolio\n",
    "agg_value = agg_close_price * agg_shares\n",
    "\n",
    "# Print the current value of the bond portfolio\n",
    "print(f'The current value of the bond portfolio is ${agg_value:.2f}')"
   ]
  },
  {
   "cell_type": "code",
   "execution_count": 20,
   "metadata": {},
   "outputs": [
    {
     "name": "stdout",
     "output_type": "stream",
     "text": [
      "The current value of the stock portfolio is $36802.70\n"
     ]
    }
   ],
   "source": [
    "# Calculate the current value of the stock portion of the portfolio\n",
    "spy_value = spy_close_price * spy_shares\n",
    "\n",
    "# Print the current value of the stock portfolio\n",
    "print(f'The current value of the stock portfolio is ${spy_value:.2f}')"
   ]
  },
  {
   "cell_type": "code",
   "execution_count": 21,
   "metadata": {},
   "outputs": [
    {
     "name": "stdout",
     "output_type": "stream",
     "text": [
      "The current value of the stock and bond portfolio is $60688.70\n"
     ]
    }
   ],
   "source": [
    "# Calculate the total value of the stock and bond portion of the portfolio\n",
    "total_stocks_bonds = agg_value + spy_value\n",
    "\n",
    "# Print the current balance of the stock and bond portion of the portfolio\n",
    "print(f'The current value of the stock and bond portfolio is ${total_stocks_bonds:.2f}')"
   ]
  },
  {
   "cell_type": "code",
   "execution_count": 22,
   "metadata": {},
   "outputs": [
    {
     "name": "stdout",
     "output_type": "stream",
     "text": [
      "The total value of the savings portfolio is $107648.62\n"
     ]
    }
   ],
   "source": [
    "# Calculate the total value of the member's entire savings portfolio\n",
    "# Add the value of the cryptocurrency wallet to the value of the total stocks and bonds\n",
    "total_portfolio = total_stocks_bonds + total_crypto_wallet\n",
    "\n",
    "# Print the total value of the member's entire savings portfolio\n",
    "print(f'The total value of the savings portfolio is ${total_portfolio:.2f}')"
   ]
  },
  {
   "cell_type": "markdown",
   "metadata": {},
   "source": [
    "### Evaluate the Emergency Fund\n",
    "\n",
    "In this section, you’ll use the valuations for the cryptocurrency wallet and for the stock and bond portions of the portfolio to determine if the credit union member has enough savings to build an emergency fund into their financial plan. To do this, complete the following steps:\n",
    "\n",
    "1. Create a Python list named `savings_data` that has two elements. The first element contains the total value of the cryptocurrency wallet. The second element contains the total value of the stock and bond portions of the portfolio.\n",
    "\n",
    "2. Use the `savings_data` list to create a Pandas DataFrame named `savings_df`, and then display this DataFrame. The function to create the DataFrame should take the following three parameters:\n",
    "\n",
    "    - `savings_data`: Use the list that you just created.\n",
    "\n",
    "    - `columns`: Set this parameter equal to a Python list with a single value called `amount`.\n",
    "\n",
    "    - `index`: Set this parameter equal to a Python list with the values of `crypto` and `stock/bond`.\n",
    "\n",
    "3. Use the `savings_df` DataFrame to plot a pie chart that visualizes the composition of the member’s portfolio. The y-axis of the pie chart uses `amount`. Be sure to add a title.\n",
    "\n",
    "4. Using Python, determine if the current portfolio has enough to create an emergency fund as part of the member’s financial plan. Ideally, an emergency fund should equal to three times the member’s monthly income. To do this, implement the following steps:\n",
    "\n",
    "    1. Create a variable named `emergency_fund_value`, and set it equal to three times the value of the member’s `monthly_income` of $12000. (You set this earlier in Part 1).\n",
    "\n",
    "    2. Create a series of three if statements to determine if the member’s total portfolio is large enough to fund the emergency portfolio:\n",
    "\n",
    "        1. If the total portfolio value is greater than the emergency fund value, display a message congratulating the member for having enough money in this fund.\n",
    "\n",
    "        2. Else if the total portfolio value is equal to the emergency fund value, display a message congratulating the member on reaching this important financial goal.\n",
    "\n",
    "        3. Else the total portfolio is less than the emergency fund value, so display a message showing how many dollars away the member is from reaching the goal. (Subtract the total portfolio value from the emergency fund value.)\n"
   ]
  },
  {
   "cell_type": "markdown",
   "metadata": {},
   "source": [
    "#### Step 1: Create a Python list named `savings_data` that has two elements. The first element contains the total value of the cryptocurrency wallet. The second element contains the total value of the stock and bond portions of the portfolio."
   ]
  },
  {
   "cell_type": "code",
   "execution_count": 23,
   "metadata": {},
   "outputs": [
    {
     "data": {
      "text/plain": [
       "[46959.919, 60688.7]"
      ]
     },
     "execution_count": 23,
     "metadata": {},
     "output_type": "execute_result"
    }
   ],
   "source": [
    "# Consolidate financial assets data into a Python list\n",
    "savings_data = [total_crypto_wallet, total_stocks_bonds]\n",
    "\n",
    "# Review the Python list savings_data\n",
    "savings_data"
   ]
  },
  {
   "cell_type": "markdown",
   "metadata": {},
   "source": [
    "#### Step 2: Use the `savings_data` list to create a Pandas DataFrame named `savings_df`, and then display this DataFrame. The function to create the DataFrame should take the following three parameters:\n",
    "\n",
    "- `savings_data`: Use the list that you just created.\n",
    "\n",
    "- `columns`: Set this parameter equal to a Python list with a single value called `amount`.\n",
    "\n",
    "- `index`: Set this parameter equal to a Python list with the values of `crypto` and `stock/bond`.\n"
   ]
  },
  {
   "cell_type": "code",
   "execution_count": 24,
   "metadata": {},
   "outputs": [
    {
     "data": {
      "text/html": [
       "<div>\n",
       "<style scoped>\n",
       "    .dataframe tbody tr th:only-of-type {\n",
       "        vertical-align: middle;\n",
       "    }\n",
       "\n",
       "    .dataframe tbody tr th {\n",
       "        vertical-align: top;\n",
       "    }\n",
       "\n",
       "    .dataframe thead th {\n",
       "        text-align: right;\n",
       "    }\n",
       "</style>\n",
       "<table border=\"1\" class=\"dataframe\">\n",
       "  <thead>\n",
       "    <tr style=\"text-align: right;\">\n",
       "      <th></th>\n",
       "      <th>amount</th>\n",
       "    </tr>\n",
       "  </thead>\n",
       "  <tbody>\n",
       "    <tr>\n",
       "      <th>crypto</th>\n",
       "      <td>46959.919</td>\n",
       "    </tr>\n",
       "    <tr>\n",
       "      <th>stock/bond</th>\n",
       "      <td>60688.700</td>\n",
       "    </tr>\n",
       "  </tbody>\n",
       "</table>\n",
       "</div>"
      ],
      "text/plain": [
       "               amount\n",
       "crypto      46959.919\n",
       "stock/bond  60688.700"
      ]
     },
     "execution_count": 24,
     "metadata": {},
     "output_type": "execute_result"
    }
   ],
   "source": [
    "# Create a Pandas DataFrame called savings_df \n",
    "savings_df = pd.DataFrame(savings_data, columns=['amount'], index=['crypto', 'stock/bond'])\n",
    "\n",
    "# Display the savings_df DataFrame\n",
    "savings_df"
   ]
  },
  {
   "cell_type": "markdown",
   "metadata": {},
   "source": [
    "#### Step 3: Use the `savings_df` DataFrame to plot a pie chart that visualizes the composition of the member’s portfolio. The y-axis of the pie chart uses `amount`. Be sure to add a title."
   ]
  },
  {
   "cell_type": "code",
   "execution_count": 25,
   "metadata": {},
   "outputs": [
    {
     "data": {
      "text/plain": [
       "<AxesSubplot:title={'center':'Breakdown of Savings Portfolio'}, ylabel='amount'>"
      ]
     },
     "execution_count": 25,
     "metadata": {},
     "output_type": "execute_result"
    },
    {
     "data": {
      "image/png": "[encoded data removed]",
      "text/plain": [
       "<Figure size 432x288 with 1 Axes>"
      ]
     },
     "metadata": {},
     "output_type": "display_data"
    }
   ],
   "source": [
    "# Plot the total value of the member's portfolio (crypto and stock/bond) in a pie chart\n",
    "savings_df.plot.pie(y='amount', title = 'Breakdown of Savings Portfolio')"
   ]
  },
  {
   "cell_type": "markdown",
   "metadata": {},
   "source": [
    "#### Step 4: Using Python, determine if the current portfolio has enough to create an emergency fund as part of the member’s financial plan. Ideally, an emergency fund should equal to three times the member’s monthly income. To do this, implement the following steps:\n",
    "\n",
    "Step 1. Create a variable named `emergency_fund_value`, and set it equal to three times the value of the member’s `monthly_income` of 12000. (You set this earlier in Part 1).\n",
    "\n",
    "Step 2. Create a series of three if statements to determine if the member’s total portfolio is large enough to fund the emergency portfolio:\n",
    "\n",
    "* If the total portfolio value is greater than the emergency fund value, display a message congratulating the member for having enough money in this fund.\n",
    "\n",
    "* Else if the total portfolio value is equal to the emergency fund value, display a message congratulating the member on reaching this important financial goal.\n",
    "\n",
    "* Else the total portfolio is less than the emergency fund value, so display a message showing how many dollars away the member is from reaching the goal. (Subtract the total portfolio value from the emergency fund value.)\n"
   ]
  },
  {
   "cell_type": "markdown",
   "metadata": {},
   "source": [
    "##### Step 4-1: Create a variable named `emergency_fund_value`, and set it equal to three times the value of the member’s `monthly_income` of 12000. (You set this earlier in Part 1)."
   ]
  },
  {
   "cell_type": "code",
   "execution_count": 26,
   "metadata": {},
   "outputs": [
    {
     "data": {
      "text/plain": [
       "36000"
      ]
     },
     "execution_count": 26,
     "metadata": {},
     "output_type": "execute_result"
    }
   ],
   "source": [
    "# Create a variable named emergency_fund_value\n",
    "emergency_fund_value = 3 * monthly_income\n",
    "emergency_fund_value"
   ]
  },
  {
   "cell_type": "markdown",
   "metadata": {},
   "source": [
    "##### Step 4-2: Create a series of three if statements to determine if the member’s total portfolio is large enough to fund the emergency portfolio:\n",
    "\n",
    "* If the total portfolio value is greater than the emergency fund value, display a message congratulating the member for having enough money in this fund.\n",
    "\n",
    "* Else if the total portfolio value is equal to the emergency fund value, display a message congratulating the member on reaching this important financial goal.\n",
    "\n",
    "* Else the total portfolio is less than the emergency fund value, so display a message showing how many dollars away the member is from reaching the goal. (Subtract the total portfolio value from the emergency fund value.)"
   ]
  },
  {
   "cell_type": "code",
   "execution_count": 27,
   "metadata": {},
   "outputs": [
    {
     "name": "stdout",
     "output_type": "stream",
     "text": [
      "Congratulations! You have enough money in this portfolio for your emergency fund.\n"
     ]
    }
   ],
   "source": [
    "# Evaluate the possibility of creating an emergency fund with 3 conditions:\n",
    "if total_portfolio > emergency_fund_value:\n",
    "    print('Congratulations! You have enough money in this portfolio for your emergency fund.')\n",
    "elif total_portfolio == emergency_fund_value:\n",
    "    print('Congratulations! You have reached your emergency fund goal.')\n",
    "else:\n",
    "    print(f'You are ${emergency_fund_value-total_portfolio} away from reaching your emergency fund goal.')"
   ]
  },
  {
   "cell_type": "markdown",
   "metadata": {},
   "source": [
    "## Part 2: Create a Financial Planner for Retirement"
   ]
  },
  {
   "cell_type": "markdown",
   "metadata": {},
   "source": [
    "### Create the Monte Carlo Simulation\n",
    "\n",
    "In this section, you’ll use the MCForecastTools library to create a Monte Carlo simulation for the member’s savings portfolio. To do this, complete the following steps:\n",
    "\n",
    "1. Make an API call via the Alpaca SDK to get 3 years of historical closing prices for a traditional 60/40 portfolio split: 60% stocks (SPY) and 40% bonds (AGG).\n",
    "\n",
    "2. Run a Monte Carlo simulation of 500 samples and 30 years for the 60/40 portfolio, and then plot the results.The following image shows the overlay line plot resulting from a simulation with these characteristics. However, because a random number generator is used to run each live Monte Carlo simulation, your image will differ slightly from this exact image:\n",
    "\n",
    "![A screenshot depicts the resulting plot.](Images/5-4-monte-carlo-line-plot.png)\n",
    "\n",
    "3. Plot the probability distribution of the Monte Carlo simulation. Plot the probability distribution of the Monte Carlo simulation. The following image shows the histogram plot resulting from a simulation with these characteristics. However, because a random number generator is used to run each live Monte Carlo simulation, your image will differ slightly from this exact image:\n",
    "\n",
    "![A screenshot depicts the histogram plot.](Images/5-4-monte-carlo-histogram.png)\n",
    "\n",
    "4. Generate the summary statistics for the Monte Carlo simulation.\n",
    "\n"
   ]
  },
  {
   "cell_type": "markdown",
   "metadata": {},
   "source": [
    "#### Step 1: Make an API call via the Alpaca SDK to get 3 years of historical closing prices for a traditional 60/40 portfolio split: 60% stocks (SPY) and 40% bonds (AGG)."
   ]
  },
  {
   "cell_type": "code",
   "execution_count": 28,
   "metadata": {},
   "outputs": [],
   "source": [
    "# Set start and end dates of 3 years back from your current date\n",
    "# Alternatively, you can use an end date of 2020-08-07 and work 3 years back from that date \n",
    "sim_start_date = pd.Timestamp(\"2019-05-19\", tz=\"America/New_York\").isoformat()\n",
    "sim_end_date = pd.Timestamp(\"2022-05-19\", tz=\"America/New_York\").isoformat()\n",
    "\n",
    "# Set number of rows to 1000 to retrieve the maximum amount of rows/set to a higher limit(2000) due to number of trading days\n",
    "limit_rows=2000"
   ]
  },
  {
   "cell_type": "code",
   "execution_count": 29,
   "metadata": {},
   "outputs": [
    {
     "data": {
      "text/html": [
       "<div>\n",
       "<style scoped>\n",
       "    .dataframe tbody tr th:only-of-type {\n",
       "        vertical-align: middle;\n",
       "    }\n",
       "\n",
       "    .dataframe tbody tr th {\n",
       "        vertical-align: top;\n",
       "    }\n",
       "\n",
       "    .dataframe thead tr th {\n",
       "        text-align: left;\n",
       "    }\n",
       "\n",
       "    .dataframe thead tr:last-of-type th {\n",
       "        text-align: right;\n",
       "    }\n",
       "</style>\n",
       "<table border=\"1\" class=\"dataframe\">\n",
       "  <thead>\n",
       "    <tr>\n",
       "      <th></th>\n",
       "      <th colspan=\"5\" halign=\"left\">SPY</th>\n",
       "      <th colspan=\"5\" halign=\"left\">AGG</th>\n",
       "    </tr>\n",
       "    <tr>\n",
       "      <th></th>\n",
       "      <th>open</th>\n",
       "      <th>high</th>\n",
       "      <th>low</th>\n",
       "      <th>close</th>\n",
       "      <th>volume</th>\n",
       "      <th>open</th>\n",
       "      <th>high</th>\n",
       "      <th>low</th>\n",
       "      <th>close</th>\n",
       "      <th>volume</th>\n",
       "    </tr>\n",
       "    <tr>\n",
       "      <th>timestamp</th>\n",
       "      <th></th>\n",
       "      <th></th>\n",
       "      <th></th>\n",
       "      <th></th>\n",
       "      <th></th>\n",
       "      <th></th>\n",
       "      <th></th>\n",
       "      <th></th>\n",
       "      <th></th>\n",
       "      <th></th>\n",
       "    </tr>\n",
       "  </thead>\n",
       "  <tbody>\n",
       "    <tr>\n",
       "      <th>2019-05-20 04:00:00+00:00</th>\n",
       "      <td>284.06</td>\n",
       "      <td>285.962</td>\n",
       "      <td>283.12</td>\n",
       "      <td>283.95</td>\n",
       "      <td>63153446</td>\n",
       "      <td>108.98</td>\n",
       "      <td>109.0568</td>\n",
       "      <td>108.86</td>\n",
       "      <td>108.88</td>\n",
       "      <td>2035081</td>\n",
       "    </tr>\n",
       "    <tr>\n",
       "      <th>2019-05-21 04:00:00+00:00</th>\n",
       "      <td>285.83</td>\n",
       "      <td>286.930</td>\n",
       "      <td>285.55</td>\n",
       "      <td>286.51</td>\n",
       "      <td>47390688</td>\n",
       "      <td>108.86</td>\n",
       "      <td>108.9100</td>\n",
       "      <td>108.81</td>\n",
       "      <td>108.87</td>\n",
       "      <td>2029825</td>\n",
       "    </tr>\n",
       "    <tr>\n",
       "      <th>2019-05-22 04:00:00+00:00</th>\n",
       "      <td>285.43</td>\n",
       "      <td>286.690</td>\n",
       "      <td>285.10</td>\n",
       "      <td>285.63</td>\n",
       "      <td>49717083</td>\n",
       "      <td>108.92</td>\n",
       "      <td>109.0900</td>\n",
       "      <td>108.92</td>\n",
       "      <td>109.05</td>\n",
       "      <td>3509876</td>\n",
       "    </tr>\n",
       "    <tr>\n",
       "      <th>2019-05-23 04:00:00+00:00</th>\n",
       "      <td>283.16</td>\n",
       "      <td>283.210</td>\n",
       "      <td>280.57</td>\n",
       "      <td>282.14</td>\n",
       "      <td>99142377</td>\n",
       "      <td>109.18</td>\n",
       "      <td>109.5000</td>\n",
       "      <td>109.14</td>\n",
       "      <td>109.37</td>\n",
       "      <td>4922489</td>\n",
       "    </tr>\n",
       "    <tr>\n",
       "      <th>2019-05-24 04:00:00+00:00</th>\n",
       "      <td>283.75</td>\n",
       "      <td>284.200</td>\n",
       "      <td>282.09</td>\n",
       "      <td>282.78</td>\n",
       "      <td>57468147</td>\n",
       "      <td>109.37</td>\n",
       "      <td>109.4499</td>\n",
       "      <td>109.33</td>\n",
       "      <td>109.41</td>\n",
       "      <td>2010339</td>\n",
       "    </tr>\n",
       "  </tbody>\n",
       "</table>\n",
       "</div>"
      ],
      "text/plain": [
       "                              SPY                                        AGG  \\\n",
       "                             open     high     low   close    volume    open   \n",
       "timestamp                                                                      \n",
       "2019-05-20 04:00:00+00:00  284.06  285.962  283.12  283.95  63153446  108.98   \n",
       "2019-05-21 04:00:00+00:00  285.83  286.930  285.55  286.51  47390688  108.86   \n",
       "2019-05-22 04:00:00+00:00  285.43  286.690  285.10  285.63  49717083  108.92   \n",
       "2019-05-23 04:00:00+00:00  283.16  283.210  280.57  282.14  99142377  109.18   \n",
       "2019-05-24 04:00:00+00:00  283.75  284.200  282.09  282.78  57468147  109.37   \n",
       "\n",
       "                                                              \n",
       "                               high     low   close   volume  \n",
       "timestamp                                                     \n",
       "2019-05-20 04:00:00+00:00  109.0568  108.86  108.88  2035081  \n",
       "2019-05-21 04:00:00+00:00  108.9100  108.81  108.87  2029825  \n",
       "2019-05-22 04:00:00+00:00  109.0900  108.92  109.05  3509876  \n",
       "2019-05-23 04:00:00+00:00  109.5000  109.14  109.37  4922489  \n",
       "2019-05-24 04:00:00+00:00  109.4499  109.33  109.41  2010339  "
      ]
     },
     "metadata": {},
     "output_type": "display_data"
    },
    {
     "data": {
      "text/html": [
       "<div>\n",
       "<style scoped>\n",
       "    .dataframe tbody tr th:only-of-type {\n",
       "        vertical-align: middle;\n",
       "    }\n",
       "\n",
       "    .dataframe tbody tr th {\n",
       "        vertical-align: top;\n",
       "    }\n",
       "\n",
       "    .dataframe thead tr th {\n",
       "        text-align: left;\n",
       "    }\n",
       "\n",
       "    .dataframe thead tr:last-of-type th {\n",
       "        text-align: right;\n",
       "    }\n",
       "</style>\n",
       "<table border=\"1\" class=\"dataframe\">\n",
       "  <thead>\n",
       "    <tr>\n",
       "      <th></th>\n",
       "      <th colspan=\"5\" halign=\"left\">SPY</th>\n",
       "      <th colspan=\"5\" halign=\"left\">AGG</th>\n",
       "    </tr>\n",
       "    <tr>\n",
       "      <th></th>\n",
       "      <th>open</th>\n",
       "      <th>high</th>\n",
       "      <th>low</th>\n",
       "      <th>close</th>\n",
       "      <th>volume</th>\n",
       "      <th>open</th>\n",
       "      <th>high</th>\n",
       "      <th>low</th>\n",
       "      <th>close</th>\n",
       "      <th>volume</th>\n",
       "    </tr>\n",
       "    <tr>\n",
       "      <th>timestamp</th>\n",
       "      <th></th>\n",
       "      <th></th>\n",
       "      <th></th>\n",
       "      <th></th>\n",
       "      <th></th>\n",
       "      <th></th>\n",
       "      <th></th>\n",
       "      <th></th>\n",
       "      <th></th>\n",
       "      <th></th>\n",
       "    </tr>\n",
       "  </thead>\n",
       "  <tbody>\n",
       "    <tr>\n",
       "      <th>2022-05-13 04:00:00+00:00</th>\n",
       "      <td>396.73</td>\n",
       "      <td>403.18</td>\n",
       "      <td>395.6100</td>\n",
       "      <td>401.72</td>\n",
       "      <td>103901082</td>\n",
       "      <td>102.75</td>\n",
       "      <td>102.780</td>\n",
       "      <td>102.480</td>\n",
       "      <td>102.51</td>\n",
       "      <td>6701432</td>\n",
       "    </tr>\n",
       "    <tr>\n",
       "      <th>2022-05-16 04:00:00+00:00</th>\n",
       "      <td>400.04</td>\n",
       "      <td>403.97</td>\n",
       "      <td>397.6000</td>\n",
       "      <td>400.09</td>\n",
       "      <td>78874575</td>\n",
       "      <td>102.71</td>\n",
       "      <td>102.970</td>\n",
       "      <td>102.690</td>\n",
       "      <td>102.74</td>\n",
       "      <td>7238402</td>\n",
       "    </tr>\n",
       "    <tr>\n",
       "      <th>2022-05-17 04:00:00+00:00</th>\n",
       "      <td>406.51</td>\n",
       "      <td>408.55</td>\n",
       "      <td>402.5824</td>\n",
       "      <td>408.26</td>\n",
       "      <td>80507900</td>\n",
       "      <td>102.27</td>\n",
       "      <td>102.430</td>\n",
       "      <td>102.140</td>\n",
       "      <td>102.18</td>\n",
       "      <td>6604743</td>\n",
       "    </tr>\n",
       "    <tr>\n",
       "      <th>2022-05-18 04:00:00+00:00</th>\n",
       "      <td>403.52</td>\n",
       "      <td>403.80</td>\n",
       "      <td>390.5500</td>\n",
       "      <td>391.86</td>\n",
       "      <td>117208507</td>\n",
       "      <td>102.11</td>\n",
       "      <td>102.639</td>\n",
       "      <td>102.075</td>\n",
       "      <td>102.59</td>\n",
       "      <td>6091812</td>\n",
       "    </tr>\n",
       "    <tr>\n",
       "      <th>2022-05-19 04:00:00+00:00</th>\n",
       "      <td>388.62</td>\n",
       "      <td>394.14</td>\n",
       "      <td>387.1100</td>\n",
       "      <td>389.46</td>\n",
       "      <td>99692078</td>\n",
       "      <td>103.20</td>\n",
       "      <td>103.220</td>\n",
       "      <td>102.750</td>\n",
       "      <td>102.85</td>\n",
       "      <td>10245597</td>\n",
       "    </tr>\n",
       "  </tbody>\n",
       "</table>\n",
       "</div>"
      ],
      "text/plain": [
       "                              SPY                                       \\\n",
       "                             open    high       low   close     volume   \n",
       "timestamp                                                                \n",
       "2022-05-13 04:00:00+00:00  396.73  403.18  395.6100  401.72  103901082   \n",
       "2022-05-16 04:00:00+00:00  400.04  403.97  397.6000  400.09   78874575   \n",
       "2022-05-17 04:00:00+00:00  406.51  408.55  402.5824  408.26   80507900   \n",
       "2022-05-18 04:00:00+00:00  403.52  403.80  390.5500  391.86  117208507   \n",
       "2022-05-19 04:00:00+00:00  388.62  394.14  387.1100  389.46   99692078   \n",
       "\n",
       "                              AGG                                      \n",
       "                             open     high      low   close    volume  \n",
       "timestamp                                                              \n",
       "2022-05-13 04:00:00+00:00  102.75  102.780  102.480  102.51   6701432  \n",
       "2022-05-16 04:00:00+00:00  102.71  102.970  102.690  102.74   7238402  \n",
       "2022-05-17 04:00:00+00:00  102.27  102.430  102.140  102.18   6604743  \n",
       "2022-05-18 04:00:00+00:00  102.11  102.639  102.075  102.59   6091812  \n",
       "2022-05-19 04:00:00+00:00  103.20  103.220  102.750  102.85  10245597  "
      ]
     },
     "metadata": {},
     "output_type": "display_data"
    }
   ],
   "source": [
    "# Use the Alpaca get_bars function to make the API call to get the 3 years worth of pricing data\n",
    "# The tickers and timeframe parameters should have been set in Part 1 of this activity \n",
    "# The start and end dates should be updated with the information set above\n",
    "# Remember to add the df property to the end of the call so the response is returned as a DataFrame\n",
    "prices_df = alpaca.get_bars(\n",
    "    tickers,\n",
    "    timeframe,\n",
    "    start = sim_start_date,\n",
    "    end = sim_end_date,\n",
    "    limit = limit_rows\n",
    ").df\n",
    "\n",
    "# Reorganize the DataFrame\n",
    "# Separate ticker data\n",
    "SPY1 = prices_df[prices_df['symbol']=='SPY'].drop(['symbol','trade_count', 'vwap'], axis=1).sort_index()\n",
    "AGG1 = prices_df[prices_df['symbol']=='AGG'].drop(['symbol', 'trade_count', 'vwap'], axis=1).sort_index()\n",
    "\n",
    "# Concatenate the ticker DataFrames\n",
    "prices_df = pd.concat([SPY1, AGG1],axis=1, keys=['SPY','AGG'])\n",
    "\n",
    "# Display both the first and last five rows of the DataFrame\n",
    "display(prices_df.head())\n",
    "display(prices_df.tail())"
   ]
  },
  {
   "cell_type": "markdown",
   "metadata": {},
   "source": [
    "#### Step 2: Run a Monte Carlo simulation of 500 samples and 30 years for the 60/40 portfolio, and then plot the results."
   ]
  },
  {
   "cell_type": "code",
   "execution_count": 30,
   "metadata": {},
   "outputs": [
    {
     "data": {
      "text/html": [
       "<div>\n",
       "<style scoped>\n",
       "    .dataframe tbody tr th:only-of-type {\n",
       "        vertical-align: middle;\n",
       "    }\n",
       "\n",
       "    .dataframe tbody tr th {\n",
       "        vertical-align: top;\n",
       "    }\n",
       "\n",
       "    .dataframe thead tr th {\n",
       "        text-align: left;\n",
       "    }\n",
       "\n",
       "    .dataframe thead tr:last-of-type th {\n",
       "        text-align: right;\n",
       "    }\n",
       "</style>\n",
       "<table border=\"1\" class=\"dataframe\">\n",
       "  <thead>\n",
       "    <tr>\n",
       "      <th></th>\n",
       "      <th colspan=\"6\" halign=\"left\">SPY</th>\n",
       "      <th colspan=\"6\" halign=\"left\">AGG</th>\n",
       "    </tr>\n",
       "    <tr>\n",
       "      <th></th>\n",
       "      <th>open</th>\n",
       "      <th>high</th>\n",
       "      <th>low</th>\n",
       "      <th>close</th>\n",
       "      <th>volume</th>\n",
       "      <th>daily_return</th>\n",
       "      <th>open</th>\n",
       "      <th>high</th>\n",
       "      <th>low</th>\n",
       "      <th>close</th>\n",
       "      <th>volume</th>\n",
       "      <th>daily_return</th>\n",
       "    </tr>\n",
       "    <tr>\n",
       "      <th>timestamp</th>\n",
       "      <th></th>\n",
       "      <th></th>\n",
       "      <th></th>\n",
       "      <th></th>\n",
       "      <th></th>\n",
       "      <th></th>\n",
       "      <th></th>\n",
       "      <th></th>\n",
       "      <th></th>\n",
       "      <th></th>\n",
       "      <th></th>\n",
       "      <th></th>\n",
       "    </tr>\n",
       "  </thead>\n",
       "  <tbody>\n",
       "    <tr>\n",
       "      <th>2019-05-20 04:00:00+00:00</th>\n",
       "      <td>284.06</td>\n",
       "      <td>285.962</td>\n",
       "      <td>283.12</td>\n",
       "      <td>283.95</td>\n",
       "      <td>63153446</td>\n",
       "      <td>NaN</td>\n",
       "      <td>108.98</td>\n",
       "      <td>109.0568</td>\n",
       "      <td>108.86</td>\n",
       "      <td>108.88</td>\n",
       "      <td>2035081</td>\n",
       "      <td>NaN</td>\n",
       "    </tr>\n",
       "    <tr>\n",
       "      <th>2019-05-21 04:00:00+00:00</th>\n",
       "      <td>285.83</td>\n",
       "      <td>286.930</td>\n",
       "      <td>285.55</td>\n",
       "      <td>286.51</td>\n",
       "      <td>47390688</td>\n",
       "      <td>0.009016</td>\n",
       "      <td>108.86</td>\n",
       "      <td>108.9100</td>\n",
       "      <td>108.81</td>\n",
       "      <td>108.87</td>\n",
       "      <td>2029825</td>\n",
       "      <td>-0.000092</td>\n",
       "    </tr>\n",
       "    <tr>\n",
       "      <th>2019-05-22 04:00:00+00:00</th>\n",
       "      <td>285.43</td>\n",
       "      <td>286.690</td>\n",
       "      <td>285.10</td>\n",
       "      <td>285.63</td>\n",
       "      <td>49717083</td>\n",
       "      <td>-0.003071</td>\n",
       "      <td>108.92</td>\n",
       "      <td>109.0900</td>\n",
       "      <td>108.92</td>\n",
       "      <td>109.05</td>\n",
       "      <td>3509876</td>\n",
       "      <td>0.001653</td>\n",
       "    </tr>\n",
       "    <tr>\n",
       "      <th>2019-05-23 04:00:00+00:00</th>\n",
       "      <td>283.16</td>\n",
       "      <td>283.210</td>\n",
       "      <td>280.57</td>\n",
       "      <td>282.14</td>\n",
       "      <td>99142377</td>\n",
       "      <td>-0.012219</td>\n",
       "      <td>109.18</td>\n",
       "      <td>109.5000</td>\n",
       "      <td>109.14</td>\n",
       "      <td>109.37</td>\n",
       "      <td>4922489</td>\n",
       "      <td>0.002934</td>\n",
       "    </tr>\n",
       "    <tr>\n",
       "      <th>2019-05-24 04:00:00+00:00</th>\n",
       "      <td>283.75</td>\n",
       "      <td>284.200</td>\n",
       "      <td>282.09</td>\n",
       "      <td>282.78</td>\n",
       "      <td>57468147</td>\n",
       "      <td>0.002268</td>\n",
       "      <td>109.37</td>\n",
       "      <td>109.4499</td>\n",
       "      <td>109.33</td>\n",
       "      <td>109.41</td>\n",
       "      <td>2010339</td>\n",
       "      <td>0.000366</td>\n",
       "    </tr>\n",
       "  </tbody>\n",
       "</table>\n",
       "</div>"
      ],
      "text/plain": [
       "                              SPY                                     \\\n",
       "                             open     high     low   close    volume   \n",
       "timestamp                                                              \n",
       "2019-05-20 04:00:00+00:00  284.06  285.962  283.12  283.95  63153446   \n",
       "2019-05-21 04:00:00+00:00  285.83  286.930  285.55  286.51  47390688   \n",
       "2019-05-22 04:00:00+00:00  285.43  286.690  285.10  285.63  49717083   \n",
       "2019-05-23 04:00:00+00:00  283.16  283.210  280.57  282.14  99142377   \n",
       "2019-05-24 04:00:00+00:00  283.75  284.200  282.09  282.78  57468147   \n",
       "\n",
       "                                           AGG                            \\\n",
       "                          daily_return    open      high     low   close   \n",
       "timestamp                                                                  \n",
       "2019-05-20 04:00:00+00:00          NaN  108.98  109.0568  108.86  108.88   \n",
       "2019-05-21 04:00:00+00:00     0.009016  108.86  108.9100  108.81  108.87   \n",
       "2019-05-22 04:00:00+00:00    -0.003071  108.92  109.0900  108.92  109.05   \n",
       "2019-05-23 04:00:00+00:00    -0.012219  109.18  109.5000  109.14  109.37   \n",
       "2019-05-24 04:00:00+00:00     0.002268  109.37  109.4499  109.33  109.41   \n",
       "\n",
       "                                                 \n",
       "                            volume daily_return  \n",
       "timestamp                                        \n",
       "2019-05-20 04:00:00+00:00  2035081          NaN  \n",
       "2019-05-21 04:00:00+00:00  2029825    -0.000092  \n",
       "2019-05-22 04:00:00+00:00  3509876     0.001653  \n",
       "2019-05-23 04:00:00+00:00  4922489     0.002934  \n",
       "2019-05-24 04:00:00+00:00  2010339     0.000366  "
      ]
     },
     "execution_count": 30,
     "metadata": {},
     "output_type": "execute_result"
    }
   ],
   "source": [
    "# Configure the Monte Carlo simulation to forecast 30 years cumulative returns\n",
    "# The weights should be split 40% to AGG and 60% to SPY.\n",
    "# Run 500 samples.\n",
    "MC_thirtyyear = MCSimulation(\n",
    "    portfolio_data = prices_df,\n",
    "    weights = [.60,.40],\n",
    "    num_simulation = 500,\n",
    "    num_trading_days = 252 * 30\n",
    ")\n",
    "\n",
    "# Review the simulation input data\n",
    "MC_thirtyyear.portfolio_data.head()"
   ]
  },
  {
   "cell_type": "code",
   "execution_count": 31,
   "metadata": {},
   "outputs": [
    {
     "name": "stdout",
     "output_type": "stream",
     "text": [
      "Running Monte Carlo simulation number 0.\n",
      "Running Monte Carlo simulation number 10.\n",
      "Running Monte Carlo simulation number 20.\n",
      "Running Monte Carlo simulation number 30.\n",
      "Running Monte Carlo simulation number 40.\n",
      "Running Monte Carlo simulation number 50.\n",
      "Running Monte Carlo simulation number 60.\n",
      "Running Monte Carlo simulation number 70.\n",
      "Running Monte Carlo simulation number 80.\n",
      "Running Monte Carlo simulation number 90.\n",
      "Running Monte Carlo simulation number 100.\n"
     ]
    },
    {
     "name": "stderr",
     "output_type": "stream",
     "text": [
      "C:\\Users\\abcar\\Desktop\\Challenge_5\\Module-5-Challenge\\MCForecastTools.py:117: PerformanceWarning: DataFrame is highly fragmented.  This is usually the result of calling `frame.insert` many times, which has poor performance.  Consider joining all columns at once using pd.concat(axis=1) instead.  To get a de-fragmented frame, use `newframe = frame.copy()`\n",
      "  portfolio_cumulative_returns[n] = (1 + sim_df.fillna(0)).cumprod()\n"
     ]
    },
    {
     "name": "stdout",
     "output_type": "stream",
     "text": [
      "Running Monte Carlo simulation number 110.\n",
      "Running Monte Carlo simulation number 120.\n",
      "Running Monte Carlo simulation number 130.\n",
      "Running Monte Carlo simulation number 140.\n",
      "Running Monte Carlo simulation number 150.\n",
      "Running Monte Carlo simulation number 160.\n",
      "Running Monte Carlo simulation number 170.\n",
      "Running Monte Carlo simulation number 180.\n",
      "Running Monte Carlo simulation number 190.\n",
      "Running Monte Carlo simulation number 200.\n",
      "Running Monte Carlo simulation number 210.\n",
      "Running Monte Carlo simulation number 220.\n",
      "Running Monte Carlo simulation number 230.\n",
      "Running Monte Carlo simulation number 240.\n",
      "Running Monte Carlo simulation number 250.\n",
      "Running Monte Carlo simulation number 260.\n",
      "Running Monte Carlo simulation number 270.\n",
      "Running Monte Carlo simulation number 280.\n",
      "Running Monte Carlo simulation number 290.\n",
      "Running Monte Carlo simulation number 300.\n",
      "Running Monte Carlo simulation number 310.\n",
      "Running Monte Carlo simulation number 320.\n",
      "Running Monte Carlo simulation number 330.\n",
      "Running Monte Carlo simulation number 340.\n",
      "Running Monte Carlo simulation number 350.\n",
      "Running Monte Carlo simulation number 360.\n",
      "Running Monte Carlo simulation number 370.\n",
      "Running Monte Carlo simulation number 380.\n",
      "Running Monte Carlo simulation number 390.\n",
      "Running Monte Carlo simulation number 400.\n",
      "Running Monte Carlo simulation number 410.\n",
      "Running Monte Carlo simulation number 420.\n",
      "Running Monte Carlo simulation number 430.\n",
      "Running Monte Carlo simulation number 440.\n",
      "Running Monte Carlo simulation number 450.\n",
      "Running Monte Carlo simulation number 460.\n",
      "Running Monte Carlo simulation number 470.\n",
      "Running Monte Carlo simulation number 480.\n",
      "Running Monte Carlo simulation number 490.\n"
     ]
    },
    {
     "data": {
      "text/html": [
       "<div>\n",
       "<style scoped>\n",
       "    .dataframe tbody tr th:only-of-type {\n",
       "        vertical-align: middle;\n",
       "    }\n",
       "\n",
       "    .dataframe tbody tr th {\n",
       "        vertical-align: top;\n",
       "    }\n",
       "\n",
       "    .dataframe thead th {\n",
       "        text-align: right;\n",
       "    }\n",
       "</style>\n",
       "<table border=\"1\" class=\"dataframe\">\n",
       "  <thead>\n",
       "    <tr style=\"text-align: right;\">\n",
       "      <th></th>\n",
       "      <th>0</th>\n",
       "      <th>1</th>\n",
       "      <th>2</th>\n",
       "      <th>3</th>\n",
       "      <th>4</th>\n",
       "      <th>5</th>\n",
       "      <th>6</th>\n",
       "      <th>7</th>\n",
       "      <th>8</th>\n",
       "      <th>9</th>\n",
       "      <th>...</th>\n",
       "      <th>490</th>\n",
       "      <th>491</th>\n",
       "      <th>492</th>\n",
       "      <th>493</th>\n",
       "      <th>494</th>\n",
       "      <th>495</th>\n",
       "      <th>496</th>\n",
       "      <th>497</th>\n",
       "      <th>498</th>\n",
       "      <th>499</th>\n",
       "    </tr>\n",
       "  </thead>\n",
       "  <tbody>\n",
       "    <tr>\n",
       "      <th>0</th>\n",
       "      <td>1.000000</td>\n",
       "      <td>1.000000</td>\n",
       "      <td>1.000000</td>\n",
       "      <td>1.000000</td>\n",
       "      <td>1.000000</td>\n",
       "      <td>1.000000</td>\n",
       "      <td>1.000000</td>\n",
       "      <td>1.000000</td>\n",
       "      <td>1.000000</td>\n",
       "      <td>1.000000</td>\n",
       "      <td>...</td>\n",
       "      <td>1.000000</td>\n",
       "      <td>1.000000</td>\n",
       "      <td>1.000000</td>\n",
       "      <td>1.000000</td>\n",
       "      <td>1.000000</td>\n",
       "      <td>1.000000</td>\n",
       "      <td>1.000000</td>\n",
       "      <td>1.000000</td>\n",
       "      <td>1.000000</td>\n",
       "      <td>1.000000</td>\n",
       "    </tr>\n",
       "    <tr>\n",
       "      <th>1</th>\n",
       "      <td>0.991261</td>\n",
       "      <td>1.018788</td>\n",
       "      <td>0.993464</td>\n",
       "      <td>0.999464</td>\n",
       "      <td>0.992403</td>\n",
       "      <td>0.993324</td>\n",
       "      <td>1.005009</td>\n",
       "      <td>0.986911</td>\n",
       "      <td>1.006250</td>\n",
       "      <td>0.997448</td>\n",
       "      <td>...</td>\n",
       "      <td>0.998912</td>\n",
       "      <td>1.011313</td>\n",
       "      <td>0.991422</td>\n",
       "      <td>0.993023</td>\n",
       "      <td>0.990178</td>\n",
       "      <td>0.980484</td>\n",
       "      <td>1.006618</td>\n",
       "      <td>1.002634</td>\n",
       "      <td>1.010145</td>\n",
       "      <td>0.996817</td>\n",
       "    </tr>\n",
       "    <tr>\n",
       "      <th>2</th>\n",
       "      <td>0.983489</td>\n",
       "      <td>1.030937</td>\n",
       "      <td>0.974639</td>\n",
       "      <td>1.009994</td>\n",
       "      <td>1.007008</td>\n",
       "      <td>1.017548</td>\n",
       "      <td>1.007827</td>\n",
       "      <td>0.996535</td>\n",
       "      <td>0.987272</td>\n",
       "      <td>0.985541</td>\n",
       "      <td>...</td>\n",
       "      <td>0.982798</td>\n",
       "      <td>0.997714</td>\n",
       "      <td>0.994777</td>\n",
       "      <td>0.999538</td>\n",
       "      <td>0.988962</td>\n",
       "      <td>0.961893</td>\n",
       "      <td>0.999217</td>\n",
       "      <td>0.986178</td>\n",
       "      <td>1.011569</td>\n",
       "      <td>1.007178</td>\n",
       "    </tr>\n",
       "    <tr>\n",
       "      <th>3</th>\n",
       "      <td>0.986681</td>\n",
       "      <td>1.046288</td>\n",
       "      <td>0.992010</td>\n",
       "      <td>1.006780</td>\n",
       "      <td>0.991798</td>\n",
       "      <td>1.013009</td>\n",
       "      <td>1.013996</td>\n",
       "      <td>0.995719</td>\n",
       "      <td>1.001173</td>\n",
       "      <td>0.978908</td>\n",
       "      <td>...</td>\n",
       "      <td>0.989240</td>\n",
       "      <td>0.996476</td>\n",
       "      <td>0.997469</td>\n",
       "      <td>1.018725</td>\n",
       "      <td>0.977689</td>\n",
       "      <td>0.951953</td>\n",
       "      <td>0.998507</td>\n",
       "      <td>0.978807</td>\n",
       "      <td>0.998568</td>\n",
       "      <td>0.987774</td>\n",
       "    </tr>\n",
       "    <tr>\n",
       "      <th>4</th>\n",
       "      <td>0.985307</td>\n",
       "      <td>1.057314</td>\n",
       "      <td>0.987719</td>\n",
       "      <td>1.013927</td>\n",
       "      <td>0.987420</td>\n",
       "      <td>1.028934</td>\n",
       "      <td>1.022085</td>\n",
       "      <td>0.983991</td>\n",
       "      <td>0.994957</td>\n",
       "      <td>0.981797</td>\n",
       "      <td>...</td>\n",
       "      <td>0.990485</td>\n",
       "      <td>0.984073</td>\n",
       "      <td>0.990276</td>\n",
       "      <td>1.008816</td>\n",
       "      <td>0.962691</td>\n",
       "      <td>0.951619</td>\n",
       "      <td>1.002657</td>\n",
       "      <td>0.980452</td>\n",
       "      <td>0.999553</td>\n",
       "      <td>0.983757</td>\n",
       "    </tr>\n",
       "    <tr>\n",
       "      <th>...</th>\n",
       "      <td>...</td>\n",
       "      <td>...</td>\n",
       "      <td>...</td>\n",
       "      <td>...</td>\n",
       "      <td>...</td>\n",
       "      <td>...</td>\n",
       "      <td>...</td>\n",
       "      <td>...</td>\n",
       "      <td>...</td>\n",
       "      <td>...</td>\n",
       "      <td>...</td>\n",
       "      <td>...</td>\n",
       "      <td>...</td>\n",
       "      <td>...</td>\n",
       "      <td>...</td>\n",
       "      <td>...</td>\n",
       "      <td>...</td>\n",
       "      <td>...</td>\n",
       "      <td>...</td>\n",
       "      <td>...</td>\n",
       "      <td>...</td>\n",
       "    </tr>\n",
       "    <tr>\n",
       "      <th>7556</th>\n",
       "      <td>8.124336</td>\n",
       "      <td>1.948122</td>\n",
       "      <td>6.527684</td>\n",
       "      <td>5.745268</td>\n",
       "      <td>4.574952</td>\n",
       "      <td>7.169391</td>\n",
       "      <td>41.961551</td>\n",
       "      <td>9.125652</td>\n",
       "      <td>17.911517</td>\n",
       "      <td>8.564693</td>\n",
       "      <td>...</td>\n",
       "      <td>6.500048</td>\n",
       "      <td>3.379374</td>\n",
       "      <td>2.439443</td>\n",
       "      <td>16.699998</td>\n",
       "      <td>4.423208</td>\n",
       "      <td>7.755262</td>\n",
       "      <td>12.086933</td>\n",
       "      <td>4.334692</td>\n",
       "      <td>6.015552</td>\n",
       "      <td>8.099801</td>\n",
       "    </tr>\n",
       "    <tr>\n",
       "      <th>7557</th>\n",
       "      <td>8.196575</td>\n",
       "      <td>1.971490</td>\n",
       "      <td>6.538393</td>\n",
       "      <td>5.710598</td>\n",
       "      <td>4.600470</td>\n",
       "      <td>7.278903</td>\n",
       "      <td>41.134587</td>\n",
       "      <td>9.251468</td>\n",
       "      <td>18.155912</td>\n",
       "      <td>8.524025</td>\n",
       "      <td>...</td>\n",
       "      <td>6.568566</td>\n",
       "      <td>3.390236</td>\n",
       "      <td>2.448845</td>\n",
       "      <td>16.793566</td>\n",
       "      <td>4.470330</td>\n",
       "      <td>7.777017</td>\n",
       "      <td>12.045908</td>\n",
       "      <td>4.350146</td>\n",
       "      <td>5.932729</td>\n",
       "      <td>8.217587</td>\n",
       "    </tr>\n",
       "    <tr>\n",
       "      <th>7558</th>\n",
       "      <td>8.148952</td>\n",
       "      <td>1.965746</td>\n",
       "      <td>6.512001</td>\n",
       "      <td>5.664167</td>\n",
       "      <td>4.553344</td>\n",
       "      <td>7.322997</td>\n",
       "      <td>41.252240</td>\n",
       "      <td>9.221499</td>\n",
       "      <td>18.254486</td>\n",
       "      <td>8.472000</td>\n",
       "      <td>...</td>\n",
       "      <td>6.633265</td>\n",
       "      <td>3.410156</td>\n",
       "      <td>2.475707</td>\n",
       "      <td>16.718652</td>\n",
       "      <td>4.400705</td>\n",
       "      <td>7.670676</td>\n",
       "      <td>12.082425</td>\n",
       "      <td>4.367308</td>\n",
       "      <td>5.837514</td>\n",
       "      <td>8.291207</td>\n",
       "    </tr>\n",
       "    <tr>\n",
       "      <th>7559</th>\n",
       "      <td>8.205818</td>\n",
       "      <td>1.989266</td>\n",
       "      <td>6.472669</td>\n",
       "      <td>5.637897</td>\n",
       "      <td>4.501010</td>\n",
       "      <td>7.360816</td>\n",
       "      <td>40.520761</td>\n",
       "      <td>9.330276</td>\n",
       "      <td>17.991549</td>\n",
       "      <td>8.652192</td>\n",
       "      <td>...</td>\n",
       "      <td>6.715186</td>\n",
       "      <td>3.366615</td>\n",
       "      <td>2.480173</td>\n",
       "      <td>16.657045</td>\n",
       "      <td>4.326563</td>\n",
       "      <td>7.620468</td>\n",
       "      <td>12.148175</td>\n",
       "      <td>4.395006</td>\n",
       "      <td>5.803326</td>\n",
       "      <td>8.398336</td>\n",
       "    </tr>\n",
       "    <tr>\n",
       "      <th>7560</th>\n",
       "      <td>8.197796</td>\n",
       "      <td>2.001758</td>\n",
       "      <td>6.429297</td>\n",
       "      <td>5.559618</td>\n",
       "      <td>4.448736</td>\n",
       "      <td>7.271780</td>\n",
       "      <td>40.169058</td>\n",
       "      <td>9.414998</td>\n",
       "      <td>17.751492</td>\n",
       "      <td>8.670575</td>\n",
       "      <td>...</td>\n",
       "      <td>6.711944</td>\n",
       "      <td>3.378164</td>\n",
       "      <td>2.457887</td>\n",
       "      <td>17.050727</td>\n",
       "      <td>4.363932</td>\n",
       "      <td>7.507721</td>\n",
       "      <td>12.117517</td>\n",
       "      <td>4.413572</td>\n",
       "      <td>5.831514</td>\n",
       "      <td>8.574340</td>\n",
       "    </tr>\n",
       "  </tbody>\n",
       "</table>\n",
       "<p>7561 rows × 500 columns</p>\n",
       "</div>"
      ],
      "text/plain": [
       "           0         1         2         3         4         5          6    \\\n",
       "0     1.000000  1.000000  1.000000  1.000000  1.000000  1.000000   1.000000   \n",
       "1     0.991261  1.018788  0.993464  0.999464  0.992403  0.993324   1.005009   \n",
       "2     0.983489  1.030937  0.974639  1.009994  1.007008  1.017548   1.007827   \n",
       "3     0.986681  1.046288  0.992010  1.006780  0.991798  1.013009   1.013996   \n",
       "4     0.985307  1.057314  0.987719  1.013927  0.987420  1.028934   1.022085   \n",
       "...        ...       ...       ...       ...       ...       ...        ...   \n",
       "7556  8.124336  1.948122  6.527684  5.745268  4.574952  7.169391  41.961551   \n",
       "7557  8.196575  1.971490  6.538393  5.710598  4.600470  7.278903  41.134587   \n",
       "7558  8.148952  1.965746  6.512001  5.664167  4.553344  7.322997  41.252240   \n",
       "7559  8.205818  1.989266  6.472669  5.637897  4.501010  7.360816  40.520761   \n",
       "7560  8.197796  2.001758  6.429297  5.559618  4.448736  7.271780  40.169058   \n",
       "\n",
       "           7          8         9    ...       490       491       492  \\\n",
       "0     1.000000   1.000000  1.000000  ...  1.000000  1.000000  1.000000   \n",
       "1     0.986911   1.006250  0.997448  ...  0.998912  1.011313  0.991422   \n",
       "2     0.996535   0.987272  0.985541  ...  0.982798  0.997714  0.994777   \n",
       "3     0.995719   1.001173  0.978908  ...  0.989240  0.996476  0.997469   \n",
       "4     0.983991   0.994957  0.981797  ...  0.990485  0.984073  0.990276   \n",
       "...        ...        ...       ...  ...       ...       ...       ...   \n",
       "7556  9.125652  17.911517  8.564693  ...  6.500048  3.379374  2.439443   \n",
       "7557  9.251468  18.155912  8.524025  ...  6.568566  3.390236  2.448845   \n",
       "7558  9.221499  18.254486  8.472000  ...  6.633265  3.410156  2.475707   \n",
       "7559  9.330276  17.991549  8.652192  ...  6.715186  3.366615  2.480173   \n",
       "7560  9.414998  17.751492  8.670575  ...  6.711944  3.378164  2.457887   \n",
       "\n",
       "            493       494       495        496       497       498       499  \n",
       "0      1.000000  1.000000  1.000000   1.000000  1.000000  1.000000  1.000000  \n",
       "1      0.993023  0.990178  0.980484   1.006618  1.002634  1.010145  0.996817  \n",
       "2      0.999538  0.988962  0.961893   0.999217  0.986178  1.011569  1.007178  \n",
       "3      1.018725  0.977689  0.951953   0.998507  0.978807  0.998568  0.987774  \n",
       "4      1.008816  0.962691  0.951619   1.002657  0.980452  0.999553  0.983757  \n",
       "...         ...       ...       ...        ...       ...       ...       ...  \n",
       "7556  16.699998  4.423208  7.755262  12.086933  4.334692  6.015552  8.099801  \n",
       "7557  16.793566  4.470330  7.777017  12.045908  4.350146  5.932729  8.217587  \n",
       "7558  16.718652  4.400705  7.670676  12.082425  4.367308  5.837514  8.291207  \n",
       "7559  16.657045  4.326563  7.620468  12.148175  4.395006  5.803326  8.398336  \n",
       "7560  17.050727  4.363932  7.507721  12.117517  4.413572  5.831514  8.574340  \n",
       "\n",
       "[7561 rows x 500 columns]"
      ]
     },
     "execution_count": 31,
     "metadata": {},
     "output_type": "execute_result"
    }
   ],
   "source": [
    "# Run the Monte Carlo simulation to forecast 30 years cumulative returns\n",
    "MC_thirtyyear.calc_cumulative_return()"
   ]
  },
  {
   "cell_type": "code",
   "execution_count": 37,
   "metadata": {},
   "outputs": [
    {
     "data": {
      "image/png": "[encoded data removed]",
      "text/plain": [
       "<Figure size 432x288 with 1 Axes>"
      ]
     },
     "metadata": {
      "needs_background": "light"
     },
     "output_type": "display_data"
    }
   ],
   "source": [
    "# Visualize the 30-year Monte Carlo simulation by creating an\n",
    "# overlay line plot\n",
    "thirtyyear_line_plot = MC_thirtyyear.plot_simulation()"
   ]
  },
  {
   "cell_type": "markdown",
   "metadata": {},
   "source": [
    "#### Step 3: Plot the probability distribution of the Monte Carlo simulation."
   ]
  },
  {
   "cell_type": "code",
   "execution_count": 38,
   "metadata": {},
   "outputs": [
    {
     "data": {
      "image/png": "[encoded data removed]",
      "text/plain": [
       "<Figure size 432x288 with 1 Axes>"
      ]
     },
     "metadata": {
      "needs_background": "light"
     },
     "output_type": "display_data"
    }
   ],
   "source": [
    "# Visualize the probability distribution of the 30-year Monte Carlo simulation \n",
    "# by plotting a histogram\n",
    "thirtyyear_dist_plot = MC_thirtyyear.plot_distribution()"
   ]
  },
  {
   "cell_type": "markdown",
   "metadata": {},
   "source": [
    "#### Step 4: Generate the summary statistics for the Monte Carlo simulation."
   ]
  },
  {
   "cell_type": "code",
   "execution_count": 40,
   "metadata": {},
   "outputs": [
    {
     "data": {
      "text/plain": [
       "count           500.000000\n",
       "mean              8.278212\n",
       "std               6.898584\n",
       "min               0.596961\n",
       "25%               3.727355\n",
       "50%               6.068483\n",
       "75%              10.592041\n",
       "max              49.773617\n",
       "95% CI Lower      1.392621\n",
       "95% CI Upper     27.263593\n",
       "Name: 7560, dtype: float64"
      ]
     },
     "execution_count": 40,
     "metadata": {},
     "output_type": "execute_result"
    }
   ],
   "source": [
    "# Generate summary statistics from the 30-year Monte Carlo simulation results\n",
    "# Save the results as a variable\n",
    "MC_thirtyyear_summary_statistics = MC_thirtyyear.summarize_cumulative_return()\n",
    "\n",
    "# Review the 30-year Monte Carlo summary statistics\n",
    "MC_thirtyyear_summary_statistics"
   ]
  },
  {
   "cell_type": "markdown",
   "metadata": {},
   "source": [
    "### Analyze the Retirement Portfolio Forecasts\n",
    "\n",
    "Using the current value of only the stock and bond portion of the member's portfolio and the summary statistics that you generated from the Monte Carlo simulation, answer the following question in your Jupyter notebook:\n",
    "\n",
    "-  What are the lower and upper bounds for the expected value of the portfolio with a 95% confidence interval?\n"
   ]
  },
  {
   "cell_type": "code",
   "execution_count": 41,
   "metadata": {},
   "outputs": [
    {
     "data": {
      "text/plain": [
       "60688.7"
      ]
     },
     "execution_count": 41,
     "metadata": {},
     "output_type": "execute_result"
    }
   ],
   "source": [
    "# Print the current balance of the stock and bond portion of the members portfolio\n",
    "total_stocks_bonds"
   ]
  },
  {
   "cell_type": "code",
   "execution_count": 52,
   "metadata": {},
   "outputs": [
    {
     "name": "stdout",
     "output_type": "stream",
     "text": [
      "There is a 95% chance that an initial investment of $60688.70 in the portfolio over the next 30 years will end within the range of $84516.35 and $1654592.04.\n"
     ]
    }
   ],
   "source": [
    "# Use the lower and upper `95%` confidence intervals to calculate the range of the possible outcomes for the current stock/bond portfolio\n",
    "ci_lower_thirty_cumulative_return = MC_thirtyyear_summary_statistics[8] * total_stocks_bonds\n",
    "ci_upper_thirty_cumulative_return = MC_thirtyyear_summary_statistics[9] * total_stocks_bonds\n",
    "\n",
    "# Print the result of your calculations\n",
    "print(f'There is a 95% chance that an initial investment of ${total_stocks_bonds:.2f} in the portfolio over the next 30 years will end'\n",
    "      f' within the range of ${ci_lower_thirty_cumulative_return:.2f} and ${ci_upper_thirty_cumulative_return:.2f}.')"
   ]
  },
  {
   "cell_type": "markdown",
   "metadata": {},
   "source": [
    "### Forecast Cumulative Returns in 10 Years\n",
    "\n",
    "The CTO of the credit union is impressed with your work on these planning tools but wonders if 30 years is a long time to wait until retirement. So, your next task is to adjust the retirement portfolio and run a new Monte Carlo simulation to find out if the changes will allow members to retire earlier.\n",
    "\n",
    "For this new Monte Carlo simulation, do the following: \n",
    "\n",
    "- Forecast the cumulative returns for 10 years from now. Because of the shortened investment horizon (30 years to 10 years), the portfolio needs to invest more heavily in the riskier asset&mdash;that is, stock&mdash;to help accumulate wealth for retirement. \n",
    "\n",
    "- Adjust the weights of the retirement portfolio so that the composition for the Monte Carlo simulation consists of 20% bonds and 80% stocks. \n",
    "\n",
    "- Run the simulation over 500 samples, and use the same data that the API call to Alpaca generated.\n",
    "\n",
    "- Based on the new Monte Carlo simulation, answer the following questions in your Jupyter notebook:\n",
    "\n",
    "    - Using the current value of only the stock and bond portion of the member's portfolio and the summary statistics that you generated from the new Monte Carlo simulation, what are the lower and upper bounds for the expected value of the portfolio (with the new weights) with a 95% confidence interval?\n",
    "\n",
    "    - Will weighting the portfolio more heavily toward stocks allow the credit union members to retire after only 10 years?\n"
   ]
  },
  {
   "cell_type": "code",
   "execution_count": 45,
   "metadata": {},
   "outputs": [
    {
     "data": {
      "text/html": [
       "<div>\n",
       "<style scoped>\n",
       "    .dataframe tbody tr th:only-of-type {\n",
       "        vertical-align: middle;\n",
       "    }\n",
       "\n",
       "    .dataframe tbody tr th {\n",
       "        vertical-align: top;\n",
       "    }\n",
       "\n",
       "    .dataframe thead tr th {\n",
       "        text-align: left;\n",
       "    }\n",
       "\n",
       "    .dataframe thead tr:last-of-type th {\n",
       "        text-align: right;\n",
       "    }\n",
       "</style>\n",
       "<table border=\"1\" class=\"dataframe\">\n",
       "  <thead>\n",
       "    <tr>\n",
       "      <th></th>\n",
       "      <th colspan=\"6\" halign=\"left\">SPY</th>\n",
       "      <th colspan=\"6\" halign=\"left\">AGG</th>\n",
       "    </tr>\n",
       "    <tr>\n",
       "      <th></th>\n",
       "      <th>open</th>\n",
       "      <th>high</th>\n",
       "      <th>low</th>\n",
       "      <th>close</th>\n",
       "      <th>volume</th>\n",
       "      <th>daily_return</th>\n",
       "      <th>open</th>\n",
       "      <th>high</th>\n",
       "      <th>low</th>\n",
       "      <th>close</th>\n",
       "      <th>volume</th>\n",
       "      <th>daily_return</th>\n",
       "    </tr>\n",
       "    <tr>\n",
       "      <th>timestamp</th>\n",
       "      <th></th>\n",
       "      <th></th>\n",
       "      <th></th>\n",
       "      <th></th>\n",
       "      <th></th>\n",
       "      <th></th>\n",
       "      <th></th>\n",
       "      <th></th>\n",
       "      <th></th>\n",
       "      <th></th>\n",
       "      <th></th>\n",
       "      <th></th>\n",
       "    </tr>\n",
       "  </thead>\n",
       "  <tbody>\n",
       "    <tr>\n",
       "      <th>2019-05-20 04:00:00+00:00</th>\n",
       "      <td>284.06</td>\n",
       "      <td>285.962</td>\n",
       "      <td>283.12</td>\n",
       "      <td>283.95</td>\n",
       "      <td>63153446</td>\n",
       "      <td>NaN</td>\n",
       "      <td>108.98</td>\n",
       "      <td>109.0568</td>\n",
       "      <td>108.86</td>\n",
       "      <td>108.88</td>\n",
       "      <td>2035081</td>\n",
       "      <td>NaN</td>\n",
       "    </tr>\n",
       "    <tr>\n",
       "      <th>2019-05-21 04:00:00+00:00</th>\n",
       "      <td>285.83</td>\n",
       "      <td>286.930</td>\n",
       "      <td>285.55</td>\n",
       "      <td>286.51</td>\n",
       "      <td>47390688</td>\n",
       "      <td>0.009016</td>\n",
       "      <td>108.86</td>\n",
       "      <td>108.9100</td>\n",
       "      <td>108.81</td>\n",
       "      <td>108.87</td>\n",
       "      <td>2029825</td>\n",
       "      <td>-0.000092</td>\n",
       "    </tr>\n",
       "    <tr>\n",
       "      <th>2019-05-22 04:00:00+00:00</th>\n",
       "      <td>285.43</td>\n",
       "      <td>286.690</td>\n",
       "      <td>285.10</td>\n",
       "      <td>285.63</td>\n",
       "      <td>49717083</td>\n",
       "      <td>-0.003071</td>\n",
       "      <td>108.92</td>\n",
       "      <td>109.0900</td>\n",
       "      <td>108.92</td>\n",
       "      <td>109.05</td>\n",
       "      <td>3509876</td>\n",
       "      <td>0.001653</td>\n",
       "    </tr>\n",
       "    <tr>\n",
       "      <th>2019-05-23 04:00:00+00:00</th>\n",
       "      <td>283.16</td>\n",
       "      <td>283.210</td>\n",
       "      <td>280.57</td>\n",
       "      <td>282.14</td>\n",
       "      <td>99142377</td>\n",
       "      <td>-0.012219</td>\n",
       "      <td>109.18</td>\n",
       "      <td>109.5000</td>\n",
       "      <td>109.14</td>\n",
       "      <td>109.37</td>\n",
       "      <td>4922489</td>\n",
       "      <td>0.002934</td>\n",
       "    </tr>\n",
       "    <tr>\n",
       "      <th>2019-05-24 04:00:00+00:00</th>\n",
       "      <td>283.75</td>\n",
       "      <td>284.200</td>\n",
       "      <td>282.09</td>\n",
       "      <td>282.78</td>\n",
       "      <td>57468147</td>\n",
       "      <td>0.002268</td>\n",
       "      <td>109.37</td>\n",
       "      <td>109.4499</td>\n",
       "      <td>109.33</td>\n",
       "      <td>109.41</td>\n",
       "      <td>2010339</td>\n",
       "      <td>0.000366</td>\n",
       "    </tr>\n",
       "  </tbody>\n",
       "</table>\n",
       "</div>"
      ],
      "text/plain": [
       "                              SPY                                     \\\n",
       "                             open     high     low   close    volume   \n",
       "timestamp                                                              \n",
       "2019-05-20 04:00:00+00:00  284.06  285.962  283.12  283.95  63153446   \n",
       "2019-05-21 04:00:00+00:00  285.83  286.930  285.55  286.51  47390688   \n",
       "2019-05-22 04:00:00+00:00  285.43  286.690  285.10  285.63  49717083   \n",
       "2019-05-23 04:00:00+00:00  283.16  283.210  280.57  282.14  99142377   \n",
       "2019-05-24 04:00:00+00:00  283.75  284.200  282.09  282.78  57468147   \n",
       "\n",
       "                                           AGG                            \\\n",
       "                          daily_return    open      high     low   close   \n",
       "timestamp                                                                  \n",
       "2019-05-20 04:00:00+00:00          NaN  108.98  109.0568  108.86  108.88   \n",
       "2019-05-21 04:00:00+00:00     0.009016  108.86  108.9100  108.81  108.87   \n",
       "2019-05-22 04:00:00+00:00    -0.003071  108.92  109.0900  108.92  109.05   \n",
       "2019-05-23 04:00:00+00:00    -0.012219  109.18  109.5000  109.14  109.37   \n",
       "2019-05-24 04:00:00+00:00     0.002268  109.37  109.4499  109.33  109.41   \n",
       "\n",
       "                                                 \n",
       "                            volume daily_return  \n",
       "timestamp                                        \n",
       "2019-05-20 04:00:00+00:00  2035081          NaN  \n",
       "2019-05-21 04:00:00+00:00  2029825    -0.000092  \n",
       "2019-05-22 04:00:00+00:00  3509876     0.001653  \n",
       "2019-05-23 04:00:00+00:00  4922489     0.002934  \n",
       "2019-05-24 04:00:00+00:00  2010339     0.000366  "
      ]
     },
     "execution_count": 45,
     "metadata": {},
     "output_type": "execute_result"
    }
   ],
   "source": [
    "# Configure a Monte Carlo simulation to forecast 10 years cumulative returns\n",
    "# The weights should be split 20% to AGG and 80% to SPY.\n",
    "# Run 500 samples.\n",
    "MC_tenyear = MCSimulation(\n",
    "    portfolio_data = prices_df,\n",
    "    weights = [.80,.20],\n",
    "    num_simulation = 500,\n",
    "    num_trading_days = 252 * 10\n",
    ")\n",
    "\n",
    "# Review the simulation input data\n",
    "MC_tenyear.portfolio_data.head()"
   ]
  },
  {
   "cell_type": "code",
   "execution_count": 46,
   "metadata": {},
   "outputs": [
    {
     "name": "stdout",
     "output_type": "stream",
     "text": [
      "Running Monte Carlo simulation number 0.\n",
      "Running Monte Carlo simulation number 10.\n",
      "Running Monte Carlo simulation number 20.\n",
      "Running Monte Carlo simulation number 30.\n",
      "Running Monte Carlo simulation number 40.\n",
      "Running Monte Carlo simulation number 50.\n",
      "Running Monte Carlo simulation number 60.\n",
      "Running Monte Carlo simulation number 70.\n",
      "Running Monte Carlo simulation number 80.\n",
      "Running Monte Carlo simulation number 90.\n",
      "Running Monte Carlo simulation number 100.\n"
     ]
    },
    {
     "name": "stderr",
     "output_type": "stream",
     "text": [
      "C:\\Users\\abcar\\Desktop\\Challenge_5\\Module-5-Challenge\\MCForecastTools.py:117: PerformanceWarning: DataFrame is highly fragmented.  This is usually the result of calling `frame.insert` many times, which has poor performance.  Consider joining all columns at once using pd.concat(axis=1) instead.  To get a de-fragmented frame, use `newframe = frame.copy()`\n",
      "  portfolio_cumulative_returns[n] = (1 + sim_df.fillna(0)).cumprod()\n"
     ]
    },
    {
     "name": "stdout",
     "output_type": "stream",
     "text": [
      "Running Monte Carlo simulation number 110.\n",
      "Running Monte Carlo simulation number 120.\n",
      "Running Monte Carlo simulation number 130.\n",
      "Running Monte Carlo simulation number 140.\n",
      "Running Monte Carlo simulation number 150.\n",
      "Running Monte Carlo simulation number 160.\n",
      "Running Monte Carlo simulation number 170.\n",
      "Running Monte Carlo simulation number 180.\n",
      "Running Monte Carlo simulation number 190.\n",
      "Running Monte Carlo simulation number 200.\n",
      "Running Monte Carlo simulation number 210.\n",
      "Running Monte Carlo simulation number 220.\n",
      "Running Monte Carlo simulation number 230.\n",
      "Running Monte Carlo simulation number 240.\n",
      "Running Monte Carlo simulation number 250.\n",
      "Running Monte Carlo simulation number 260.\n",
      "Running Monte Carlo simulation number 270.\n",
      "Running Monte Carlo simulation number 280.\n",
      "Running Monte Carlo simulation number 290.\n",
      "Running Monte Carlo simulation number 300.\n",
      "Running Monte Carlo simulation number 310.\n",
      "Running Monte Carlo simulation number 320.\n",
      "Running Monte Carlo simulation number 330.\n",
      "Running Monte Carlo simulation number 340.\n",
      "Running Monte Carlo simulation number 350.\n",
      "Running Monte Carlo simulation number 360.\n",
      "Running Monte Carlo simulation number 370.\n",
      "Running Monte Carlo simulation number 380.\n",
      "Running Monte Carlo simulation number 390.\n",
      "Running Monte Carlo simulation number 400.\n",
      "Running Monte Carlo simulation number 410.\n",
      "Running Monte Carlo simulation number 420.\n",
      "Running Monte Carlo simulation number 430.\n",
      "Running Monte Carlo simulation number 440.\n",
      "Running Monte Carlo simulation number 450.\n",
      "Running Monte Carlo simulation number 460.\n",
      "Running Monte Carlo simulation number 470.\n",
      "Running Monte Carlo simulation number 480.\n",
      "Running Monte Carlo simulation number 490.\n"
     ]
    },
    {
     "data": {
      "text/html": [
       "<div>\n",
       "<style scoped>\n",
       "    .dataframe tbody tr th:only-of-type {\n",
       "        vertical-align: middle;\n",
       "    }\n",
       "\n",
       "    .dataframe tbody tr th {\n",
       "        vertical-align: top;\n",
       "    }\n",
       "\n",
       "    .dataframe thead th {\n",
       "        text-align: right;\n",
       "    }\n",
       "</style>\n",
       "<table border=\"1\" class=\"dataframe\">\n",
       "  <thead>\n",
       "    <tr style=\"text-align: right;\">\n",
       "      <th></th>\n",
       "      <th>0</th>\n",
       "      <th>1</th>\n",
       "      <th>2</th>\n",
       "      <th>3</th>\n",
       "      <th>4</th>\n",
       "      <th>5</th>\n",
       "      <th>6</th>\n",
       "      <th>7</th>\n",
       "      <th>8</th>\n",
       "      <th>9</th>\n",
       "      <th>...</th>\n",
       "      <th>490</th>\n",
       "      <th>491</th>\n",
       "      <th>492</th>\n",
       "      <th>493</th>\n",
       "      <th>494</th>\n",
       "      <th>495</th>\n",
       "      <th>496</th>\n",
       "      <th>497</th>\n",
       "      <th>498</th>\n",
       "      <th>499</th>\n",
       "    </tr>\n",
       "  </thead>\n",
       "  <tbody>\n",
       "    <tr>\n",
       "      <th>0</th>\n",
       "      <td>1.000000</td>\n",
       "      <td>1.000000</td>\n",
       "      <td>1.000000</td>\n",
       "      <td>1.000000</td>\n",
       "      <td>1.000000</td>\n",
       "      <td>1.000000</td>\n",
       "      <td>1.000000</td>\n",
       "      <td>1.000000</td>\n",
       "      <td>1.000000</td>\n",
       "      <td>1.000000</td>\n",
       "      <td>...</td>\n",
       "      <td>1.000000</td>\n",
       "      <td>1.000000</td>\n",
       "      <td>1.000000</td>\n",
       "      <td>1.000000</td>\n",
       "      <td>1.000000</td>\n",
       "      <td>1.000000</td>\n",
       "      <td>1.000000</td>\n",
       "      <td>1.000000</td>\n",
       "      <td>1.000000</td>\n",
       "      <td>1.000000</td>\n",
       "    </tr>\n",
       "    <tr>\n",
       "      <th>1</th>\n",
       "      <td>1.010249</td>\n",
       "      <td>1.008944</td>\n",
       "      <td>0.984677</td>\n",
       "      <td>0.990930</td>\n",
       "      <td>0.992111</td>\n",
       "      <td>0.990494</td>\n",
       "      <td>0.989044</td>\n",
       "      <td>1.013406</td>\n",
       "      <td>1.012360</td>\n",
       "      <td>1.002087</td>\n",
       "      <td>...</td>\n",
       "      <td>0.996154</td>\n",
       "      <td>1.004735</td>\n",
       "      <td>1.005212</td>\n",
       "      <td>0.988572</td>\n",
       "      <td>1.015865</td>\n",
       "      <td>1.018533</td>\n",
       "      <td>0.993547</td>\n",
       "      <td>1.003447</td>\n",
       "      <td>0.997709</td>\n",
       "      <td>1.017685</td>\n",
       "    </tr>\n",
       "    <tr>\n",
       "      <th>2</th>\n",
       "      <td>1.007861</td>\n",
       "      <td>1.010492</td>\n",
       "      <td>0.978469</td>\n",
       "      <td>0.979018</td>\n",
       "      <td>1.017177</td>\n",
       "      <td>0.995040</td>\n",
       "      <td>0.977519</td>\n",
       "      <td>0.992495</td>\n",
       "      <td>1.012991</td>\n",
       "      <td>1.013449</td>\n",
       "      <td>...</td>\n",
       "      <td>1.014132</td>\n",
       "      <td>1.000861</td>\n",
       "      <td>1.015229</td>\n",
       "      <td>1.000212</td>\n",
       "      <td>1.016091</td>\n",
       "      <td>1.008154</td>\n",
       "      <td>1.006481</td>\n",
       "      <td>0.994405</td>\n",
       "      <td>1.004681</td>\n",
       "      <td>1.018553</td>\n",
       "    </tr>\n",
       "    <tr>\n",
       "      <th>3</th>\n",
       "      <td>1.005596</td>\n",
       "      <td>1.014601</td>\n",
       "      <td>0.983781</td>\n",
       "      <td>0.972290</td>\n",
       "      <td>1.017017</td>\n",
       "      <td>0.993769</td>\n",
       "      <td>0.973910</td>\n",
       "      <td>0.997020</td>\n",
       "      <td>1.019797</td>\n",
       "      <td>1.007335</td>\n",
       "      <td>...</td>\n",
       "      <td>1.020137</td>\n",
       "      <td>0.995197</td>\n",
       "      <td>1.003459</td>\n",
       "      <td>1.018336</td>\n",
       "      <td>1.014433</td>\n",
       "      <td>1.009946</td>\n",
       "      <td>1.010705</td>\n",
       "      <td>0.991535</td>\n",
       "      <td>0.985311</td>\n",
       "      <td>1.015022</td>\n",
       "    </tr>\n",
       "    <tr>\n",
       "      <th>4</th>\n",
       "      <td>0.997611</td>\n",
       "      <td>1.028011</td>\n",
       "      <td>0.988151</td>\n",
       "      <td>0.968006</td>\n",
       "      <td>1.051880</td>\n",
       "      <td>0.978771</td>\n",
       "      <td>0.972496</td>\n",
       "      <td>0.984281</td>\n",
       "      <td>1.012179</td>\n",
       "      <td>1.017992</td>\n",
       "      <td>...</td>\n",
       "      <td>1.035659</td>\n",
       "      <td>1.015567</td>\n",
       "      <td>1.016930</td>\n",
       "      <td>1.017071</td>\n",
       "      <td>0.996104</td>\n",
       "      <td>1.009783</td>\n",
       "      <td>1.024751</td>\n",
       "      <td>0.985080</td>\n",
       "      <td>0.989837</td>\n",
       "      <td>1.007395</td>\n",
       "    </tr>\n",
       "    <tr>\n",
       "      <th>...</th>\n",
       "      <td>...</td>\n",
       "      <td>...</td>\n",
       "      <td>...</td>\n",
       "      <td>...</td>\n",
       "      <td>...</td>\n",
       "      <td>...</td>\n",
       "      <td>...</td>\n",
       "      <td>...</td>\n",
       "      <td>...</td>\n",
       "      <td>...</td>\n",
       "      <td>...</td>\n",
       "      <td>...</td>\n",
       "      <td>...</td>\n",
       "      <td>...</td>\n",
       "      <td>...</td>\n",
       "      <td>...</td>\n",
       "      <td>...</td>\n",
       "      <td>...</td>\n",
       "      <td>...</td>\n",
       "      <td>...</td>\n",
       "      <td>...</td>\n",
       "    </tr>\n",
       "    <tr>\n",
       "      <th>2516</th>\n",
       "      <td>2.828297</td>\n",
       "      <td>2.650396</td>\n",
       "      <td>1.599332</td>\n",
       "      <td>6.325325</td>\n",
       "      <td>1.823398</td>\n",
       "      <td>2.903300</td>\n",
       "      <td>3.361810</td>\n",
       "      <td>1.632422</td>\n",
       "      <td>2.020944</td>\n",
       "      <td>1.530987</td>\n",
       "      <td>...</td>\n",
       "      <td>2.143005</td>\n",
       "      <td>0.958263</td>\n",
       "      <td>2.993683</td>\n",
       "      <td>4.256590</td>\n",
       "      <td>2.857252</td>\n",
       "      <td>13.010312</td>\n",
       "      <td>2.819146</td>\n",
       "      <td>0.518690</td>\n",
       "      <td>0.868197</td>\n",
       "      <td>1.386856</td>\n",
       "    </tr>\n",
       "    <tr>\n",
       "      <th>2517</th>\n",
       "      <td>2.872705</td>\n",
       "      <td>2.645885</td>\n",
       "      <td>1.587406</td>\n",
       "      <td>6.337796</td>\n",
       "      <td>1.805337</td>\n",
       "      <td>2.903620</td>\n",
       "      <td>3.455430</td>\n",
       "      <td>1.634705</td>\n",
       "      <td>2.076740</td>\n",
       "      <td>1.504578</td>\n",
       "      <td>...</td>\n",
       "      <td>2.151102</td>\n",
       "      <td>0.960303</td>\n",
       "      <td>3.031056</td>\n",
       "      <td>4.216016</td>\n",
       "      <td>2.817134</td>\n",
       "      <td>12.833316</td>\n",
       "      <td>2.832240</td>\n",
       "      <td>0.522409</td>\n",
       "      <td>0.859637</td>\n",
       "      <td>1.385848</td>\n",
       "    </tr>\n",
       "    <tr>\n",
       "      <th>2518</th>\n",
       "      <td>2.904905</td>\n",
       "      <td>2.638193</td>\n",
       "      <td>1.568801</td>\n",
       "      <td>6.360769</td>\n",
       "      <td>1.787185</td>\n",
       "      <td>2.906457</td>\n",
       "      <td>3.493470</td>\n",
       "      <td>1.628160</td>\n",
       "      <td>2.071000</td>\n",
       "      <td>1.526431</td>\n",
       "      <td>...</td>\n",
       "      <td>2.110502</td>\n",
       "      <td>0.953624</td>\n",
       "      <td>2.990085</td>\n",
       "      <td>4.084210</td>\n",
       "      <td>2.758226</td>\n",
       "      <td>12.956964</td>\n",
       "      <td>2.795647</td>\n",
       "      <td>0.516035</td>\n",
       "      <td>0.871336</td>\n",
       "      <td>1.374952</td>\n",
       "    </tr>\n",
       "    <tr>\n",
       "      <th>2519</th>\n",
       "      <td>2.917963</td>\n",
       "      <td>2.614938</td>\n",
       "      <td>1.546171</td>\n",
       "      <td>6.403060</td>\n",
       "      <td>1.780859</td>\n",
       "      <td>2.965923</td>\n",
       "      <td>3.486254</td>\n",
       "      <td>1.642565</td>\n",
       "      <td>2.092052</td>\n",
       "      <td>1.524064</td>\n",
       "      <td>...</td>\n",
       "      <td>2.107213</td>\n",
       "      <td>0.951917</td>\n",
       "      <td>2.991428</td>\n",
       "      <td>3.977614</td>\n",
       "      <td>2.802374</td>\n",
       "      <td>13.043522</td>\n",
       "      <td>2.846640</td>\n",
       "      <td>0.527150</td>\n",
       "      <td>0.848172</td>\n",
       "      <td>1.395143</td>\n",
       "    </tr>\n",
       "    <tr>\n",
       "      <th>2520</th>\n",
       "      <td>2.915818</td>\n",
       "      <td>2.609811</td>\n",
       "      <td>1.536503</td>\n",
       "      <td>6.324069</td>\n",
       "      <td>1.802818</td>\n",
       "      <td>2.929913</td>\n",
       "      <td>3.463452</td>\n",
       "      <td>1.647274</td>\n",
       "      <td>2.119463</td>\n",
       "      <td>1.523359</td>\n",
       "      <td>...</td>\n",
       "      <td>2.132128</td>\n",
       "      <td>0.941877</td>\n",
       "      <td>3.009020</td>\n",
       "      <td>3.944583</td>\n",
       "      <td>2.764626</td>\n",
       "      <td>13.154089</td>\n",
       "      <td>2.878990</td>\n",
       "      <td>0.539921</td>\n",
       "      <td>0.862010</td>\n",
       "      <td>1.409950</td>\n",
       "    </tr>\n",
       "  </tbody>\n",
       "</table>\n",
       "<p>2521 rows × 500 columns</p>\n",
       "</div>"
      ],
      "text/plain": [
       "           0         1         2         3         4         5         6    \\\n",
       "0     1.000000  1.000000  1.000000  1.000000  1.000000  1.000000  1.000000   \n",
       "1     1.010249  1.008944  0.984677  0.990930  0.992111  0.990494  0.989044   \n",
       "2     1.007861  1.010492  0.978469  0.979018  1.017177  0.995040  0.977519   \n",
       "3     1.005596  1.014601  0.983781  0.972290  1.017017  0.993769  0.973910   \n",
       "4     0.997611  1.028011  0.988151  0.968006  1.051880  0.978771  0.972496   \n",
       "...        ...       ...       ...       ...       ...       ...       ...   \n",
       "2516  2.828297  2.650396  1.599332  6.325325  1.823398  2.903300  3.361810   \n",
       "2517  2.872705  2.645885  1.587406  6.337796  1.805337  2.903620  3.455430   \n",
       "2518  2.904905  2.638193  1.568801  6.360769  1.787185  2.906457  3.493470   \n",
       "2519  2.917963  2.614938  1.546171  6.403060  1.780859  2.965923  3.486254   \n",
       "2520  2.915818  2.609811  1.536503  6.324069  1.802818  2.929913  3.463452   \n",
       "\n",
       "           7         8         9    ...       490       491       492  \\\n",
       "0     1.000000  1.000000  1.000000  ...  1.000000  1.000000  1.000000   \n",
       "1     1.013406  1.012360  1.002087  ...  0.996154  1.004735  1.005212   \n",
       "2     0.992495  1.012991  1.013449  ...  1.014132  1.000861  1.015229   \n",
       "3     0.997020  1.019797  1.007335  ...  1.020137  0.995197  1.003459   \n",
       "4     0.984281  1.012179  1.017992  ...  1.035659  1.015567  1.016930   \n",
       "...        ...       ...       ...  ...       ...       ...       ...   \n",
       "2516  1.632422  2.020944  1.530987  ...  2.143005  0.958263  2.993683   \n",
       "2517  1.634705  2.076740  1.504578  ...  2.151102  0.960303  3.031056   \n",
       "2518  1.628160  2.071000  1.526431  ...  2.110502  0.953624  2.990085   \n",
       "2519  1.642565  2.092052  1.524064  ...  2.107213  0.951917  2.991428   \n",
       "2520  1.647274  2.119463  1.523359  ...  2.132128  0.941877  3.009020   \n",
       "\n",
       "           493       494        495       496       497       498       499  \n",
       "0     1.000000  1.000000   1.000000  1.000000  1.000000  1.000000  1.000000  \n",
       "1     0.988572  1.015865   1.018533  0.993547  1.003447  0.997709  1.017685  \n",
       "2     1.000212  1.016091   1.008154  1.006481  0.994405  1.004681  1.018553  \n",
       "3     1.018336  1.014433   1.009946  1.010705  0.991535  0.985311  1.015022  \n",
       "4     1.017071  0.996104   1.009783  1.024751  0.985080  0.989837  1.007395  \n",
       "...        ...       ...        ...       ...       ...       ...       ...  \n",
       "2516  4.256590  2.857252  13.010312  2.819146  0.518690  0.868197  1.386856  \n",
       "2517  4.216016  2.817134  12.833316  2.832240  0.522409  0.859637  1.385848  \n",
       "2518  4.084210  2.758226  12.956964  2.795647  0.516035  0.871336  1.374952  \n",
       "2519  3.977614  2.802374  13.043522  2.846640  0.527150  0.848172  1.395143  \n",
       "2520  3.944583  2.764626  13.154089  2.878990  0.539921  0.862010  1.409950  \n",
       "\n",
       "[2521 rows x 500 columns]"
      ]
     },
     "execution_count": 46,
     "metadata": {},
     "output_type": "execute_result"
    }
   ],
   "source": [
    "# Run the Monte Carlo simulation to forecast 10 years cumulative returns\n",
    "MC_tenyear.calc_cumulative_return()"
   ]
  },
  {
   "cell_type": "code",
   "execution_count": 47,
   "metadata": {},
   "outputs": [
    {
     "data": {
      "image/png": "[encoded data removed]",
      "text/plain": [
       "<Figure size 432x288 with 1 Axes>"
      ]
     },
     "metadata": {
      "needs_background": "light"
     },
     "output_type": "display_data"
    }
   ],
   "source": [
    "# Visualize the 10-year Monte Carlo simulation by creating an\n",
    "# overlay line plot\n",
    "tenyear_line_plot = MC_tenyear.plot_simulation()"
   ]
  },
  {
   "cell_type": "code",
   "execution_count": 48,
   "metadata": {},
   "outputs": [
    {
     "data": {
      "image/png": "[encoded data removed]",
      "text/plain": [
       "<Figure size 432x288 with 1 Axes>"
      ]
     },
     "metadata": {
      "needs_background": "light"
     },
     "output_type": "display_data"
    }
   ],
   "source": [
    "# Visualize the probability distribution of the 10-year Monte Carlo simulation \n",
    "# by plotting a histogram\n",
    "tenyear_dist_plot = MC_tenyear.plot_distribution()"
   ]
  },
  {
   "cell_type": "code",
   "execution_count": 49,
   "metadata": {},
   "outputs": [
    {
     "data": {
      "text/plain": [
       "count           500.000000\n",
       "mean              2.969955\n",
       "std               2.042158\n",
       "min               0.428864\n",
       "25%               1.670268\n",
       "50%               2.383780\n",
       "75%               3.612061\n",
       "max              13.517594\n",
       "95% CI Lower      0.812775\n",
       "95% CI Upper      8.425871\n",
       "Name: 2520, dtype: float64"
      ]
     },
     "execution_count": 49,
     "metadata": {},
     "output_type": "execute_result"
    }
   ],
   "source": [
    "# Generate summary statistics from the 10-year Monte Carlo simulation results\n",
    "# Save the results as a variable\n",
    "MC_tenyear_summary_statistics = MC_tenyear.summarize_cumulative_return()\n",
    "\n",
    "# Review the 10-year Monte Carlo summary statistics\n",
    "MC_tenyear_summary_statistics"
   ]
  },
  {
   "cell_type": "markdown",
   "metadata": {},
   "source": [
    "### Answer the following questions:"
   ]
  },
  {
   "cell_type": "markdown",
   "metadata": {},
   "source": [
    "#### Question: Using the current value of only the stock and bond portion of the member's portfolio and the summary statistics that you generated from the new Monte Carlo simulation, what are the lower and upper bounds for the expected value of the portfolio (with the new weights) with a 95% confidence interval?"
   ]
  },
  {
   "cell_type": "code",
   "execution_count": 50,
   "metadata": {},
   "outputs": [
    {
     "data": {
      "text/plain": [
       "60688.7"
      ]
     },
     "execution_count": 50,
     "metadata": {},
     "output_type": "execute_result"
    }
   ],
   "source": [
    "# Print the current balance of the stock and bond portion of the members portfolio\n",
    "total_stocks_bonds"
   ]
  },
  {
   "cell_type": "code",
   "execution_count": 53,
   "metadata": {},
   "outputs": [
    {
     "name": "stdout",
     "output_type": "stream",
     "text": [
      "There is a 95% chance that an initial investment of $60688.70 in the portfolio over the next 10 years will end within the range of $49326.25 and $511355.13.\n"
     ]
    }
   ],
   "source": [
    "# Use the lower and upper `95%` confidence intervals to calculate the range of the possible outcomes for the current stock/bond portfolio\n",
    "ci_lower_ten_cumulative_return = MC_tenyear_summary_statistics[8] * total_stocks_bonds\n",
    "ci_upper_ten_cumulative_return = MC_tenyear_summary_statistics[9] * total_stocks_bonds\n",
    "\n",
    "# Print the result of your calculations\n",
    "print(f'There is a 95% chance that an initial investment of ${total_stocks_bonds:.2f} in the portfolio over the next 10 years will end'\n",
    "      f' within the range of ${ci_lower_ten_cumulative_return:.2f} and ${ci_upper_ten_cumulative_return:.2f}.')"
   ]
  },
  {
   "cell_type": "markdown",
   "metadata": {},
   "source": [
    "#### Question: Will weighting the portfolio more heavily to stocks allow the credit union members to retire after only 10 years?"
   ]
  },
  {
   "cell_type": "raw",
   "metadata": {},
   "source": [
    "**Answer** No, as there is a chance the amount after 10 years could be below the initial investment with the lower return of $49,326.25."
   ]
  },
  {
   "cell_type": "code",
   "execution_count": null,
   "metadata": {},
   "outputs": [],
   "source": []
  }
 ],
 "metadata": {
  "kernelspec": {
   "display_name": "Python 3 (ipykernel)",
   "language": "python",
   "name": "python3"
  },
  "language_info": {
   "codemirror_mode": {
    "name": "ipython",
    "version": 3
   },
   "file_extension": ".py",
   "mimetype": "text/x-python",
   "name": "python",
   "nbconvert_exporter": "python",
   "pygments_lexer": "ipython3",
   "version": "3.7.11"
  }
 },
 "nbformat": 4,
 "nbformat_minor": 4
}
